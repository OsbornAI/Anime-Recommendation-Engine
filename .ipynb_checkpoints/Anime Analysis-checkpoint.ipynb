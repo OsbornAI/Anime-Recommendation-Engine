{
 "cells": [
  {
   "cell_type": "markdown",
   "metadata": {},
   "source": [
    "# Anime Analysis by Ben Osborn and OsbornAI"
   ]
  },
  {
   "cell_type": "markdown",
   "metadata": {},
   "source": [
    "## This project consists of the scraping and creation of a dataset containing information about all anime's listed on MyAnimeList. This data is analysed, and a model is created to predict the anime's rating based on the pages features"
   ]
  },
  {
   "cell_type": "markdown",
   "metadata": {},
   "source": [
    "### Scraping and dataset creation"
   ]
  },
  {
   "cell_type": "markdown",
   "metadata": {},
   "source": [
    "#### Parses through the labels and the lists from the soup elements"
   ]
  },
  {
   "cell_type": "code",
   "execution_count": 1,
   "metadata": {},
   "outputs": [],
   "source": [
    "from bs4 import BeautifulSoup\n",
    "\n",
    "def parseList(element): # Have to check that a tags exist for ever single page and developer\n",
    "    ret_list = [a.text for a in element.find_all('a')]\n",
    "    \n",
    "    return \", \".join(ret_list)\n",
    "\n",
    "def parseLabel(element):\n",
    "    string = element.text\n",
    "    \n",
    "    split_colens = string.split(':')\n",
    "    removed_label = split_colens[1:]\n",
    "    \n",
    "    for i, label in enumerate(removed_label):\n",
    "        removed_label[i] = label.replace('\\n', '').strip()\n",
    "    \n",
    "    joined = \" \".join(removed_label)\n",
    "    \n",
    "    return joined"
   ]
  },
  {
   "cell_type": "markdown",
   "metadata": {},
   "source": [
    "#### These are the names of the raw initial columns in the dataframe"
   ]
  },
  {
   "cell_type": "code",
   "execution_count": 2,
   "metadata": {},
   "outputs": [],
   "source": [
    "field_names = ['name_english', 'name_japanese', 'show_type', 'episodes', 'status', 'aired', 'broadcast_time', 'producers', \n",
    "               'licensors', 'studios', 'source', 'genres', 'episode_length', 'rating', 'score_and_scorers', \n",
    "               'members', 'favorites', 'description']"
   ]
  },
  {
   "cell_type": "markdown",
   "metadata": {},
   "source": [
    "#### Scrapes the page from the show and returns a row of data for the dataframe"
   ]
  },
  {
   "cell_type": "code",
   "execution_count": 3,
   "metadata": {},
   "outputs": [],
   "source": [
    "import requests\n",
    "\n",
    "def createRow(url):\n",
    "    ret_dict = {field_name: '' for field_name in field_names}\n",
    "\n",
    "    req = requests.get(url)\n",
    "    soup = BeautifulSoup(req.content, 'html.parser')\n",
    "\n",
    "    side_panel = soup.find('td', class_='borderClass')\n",
    "    side_panel_subdiv = side_panel.find('div')\n",
    "    side_panel_divs = side_panel_subdiv.find_all('div')\n",
    "\n",
    "    try:\n",
    "        ret_dict['description'] = soup.find('p', itemprop='description').text\n",
    "\n",
    "    except Exception as e:\n",
    "        print(f\"Encountered an error '{e}' for description at '{url}'.\")\n",
    "\n",
    "    for panel in side_panel_divs:\n",
    "        try:\n",
    "            split = str(panel.text.split(':')[0].strip())\n",
    "\n",
    "            if split == \"English\":\n",
    "                ret_dict['name_english'] = parseLabel(panel)\n",
    "\n",
    "            if split == \"Japanese\":\n",
    "                ret_dict['name_japanese'] = parseLabel(panel)\n",
    "\n",
    "            if split == \"Type\":\n",
    "                ret_dict['show_type'] = parseLabel(panel)\n",
    "\n",
    "            if split == \"Episodes\":\n",
    "                ret_dict['episodes'] = parseLabel(panel)\n",
    "\n",
    "            if split == \"Status\":\n",
    "                ret_dict['status'] = parseLabel(panel)\n",
    "\n",
    "            if split == \"Aired\":\n",
    "                ret_dict['aired'] = parseLabel(panel)\n",
    "\n",
    "            if split == \"Broadcast\":\n",
    "                ret_dict['broadcast_time'] = parseLabel(panel)\n",
    "\n",
    "            if split == \"Producers\":\n",
    "                ret_dict['producers'] = parseList(panel)\n",
    "\n",
    "            if split == \"Licensors\":\n",
    "                ret_dict['licensors'] = parseList(panel)\n",
    "\n",
    "            if split == \"Studios\":\n",
    "                ret_dict['studios'] = parseList(panel)\n",
    "\n",
    "            if split == \"Source\":\n",
    "                ret_dict['source'] = parseLabel(panel)\n",
    "\n",
    "            if split == \"Genres\":\n",
    "                ret_dict['genres'] = parseList(panel)\n",
    "\n",
    "            if split == \"Duration\":\n",
    "                ret_dict['episode_length'] = parseLabel(panel)\n",
    "\n",
    "            if split == \"Rating\":\n",
    "                ret_dict['rating'] = parseLabel(panel).split(' ')[0]\n",
    "\n",
    "            if split == \"Score\":\n",
    "                ret_dict['score_and_scorers'] = \", \".join([part.text for part in panel.find_all('span')][1:])\n",
    "\n",
    "            if split == \"Members\":\n",
    "                ret_dict['members'] = \"\".join(parseLabel(panel).split(','))\n",
    "\n",
    "            if split == \"Favorites\":\n",
    "                ret_dict['favorites'] = \"\".join(parseLabel(panel).split(','))\n",
    "\n",
    "        except Exception as e:\n",
    "            print(f\"Encountered an error '{e}' at '{url}'.\")\n",
    "            \n",
    "    return ret_dict\n",
    "    \n",
    "# createRow(\"https://myanimelist.net/anime/5114/Fullmetal_Alchemist__Brotherhood\")"
   ]
  },
  {
   "cell_type": "markdown",
   "metadata": {},
   "source": [
    "#### Go through the amount of pages specified then scrape the information for each show, then store them to a CSV file"
   ]
  },
  {
   "cell_type": "code",
   "execution_count": 4,
   "metadata": {},
   "outputs": [],
   "source": [
    "# Introduce sharding of CSV to this\n",
    "import os\n",
    "from csv import DictWriter\n",
    "import time\n",
    "\n",
    "# Change the file saving location for this\n",
    "def genDataset(end_page, csv_dir, csv_filename, start_page=0): # Where resume is the page of which it left off from\n",
    "    link = 'Unknown'\n",
    "            \n",
    "    for i in range(start_page, end_page):\n",
    "        \n",
    "        print(f\"Scraping page {i}...\")\n",
    "\n",
    "        csv_path = os.path.join(csv_dir, f'{csv_filename}-{i}.csv')\n",
    "\n",
    "        with open(csv_path, 'w', newline='', encoding='utf-8') as csvfile:\n",
    "            writer = DictWriter(csvfile, fieldnames=field_names)\n",
    "            \n",
    "            writer.writeheader()\n",
    "\n",
    "            url_page = f\"https://myanimelist.net/topanime.php?limit={i*50}\"\n",
    "            req_list = requests.get(url_page)\n",
    "            soup_list = BeautifulSoup(req_list.content, 'html.parser')\n",
    "            shows = soup_list.find_all('tr', class_='ranking-list')\n",
    "\n",
    "            for show in shows:\n",
    "                try:\n",
    "                    link = show.find('a').get('href')\n",
    "                    data_row = createRow(link)\n",
    "                    writer.writerow(data_row)\n",
    "\n",
    "                    time.sleep(2) # These are required to stop the website from blocking us\n",
    "\n",
    "                except Exception as e:\n",
    "                    print(f\"Encountered error '{e}' at '{link}'.\")\n",
    "                    \n",
    "                    time.sleep(2)\n",
    "    \n",
    "    print(\"Dataset creation complete!\")\n",
    "    \n",
    "csv_dir = os.path.join(os.getcwd(), 'csv')\n",
    "# genDataset(300, csv_dir, 'mal-data-20-11-2020', start_page=0)"
   ]
  },
  {
   "cell_type": "markdown",
   "metadata": {},
   "source": [
    "### Data handling and cleaning"
   ]
  },
  {
   "cell_type": "markdown",
   "metadata": {},
   "source": [
    "#### Concatenate CSV files and put them into a data frame"
   ]
  },
  {
   "cell_type": "code",
   "execution_count": 5,
   "metadata": {},
   "outputs": [],
   "source": [
    "import pandas as pd\n",
    "import matplotlib.pyplot as plt\n",
    "%matplotlib inline\n",
    "plt.rcParams['figure.figsize'] = (12, 6)\n",
    "\n",
    "csv_path = os.path.join(os.getcwd(), 'csv')\n",
    "\n",
    "dfs = []\n",
    "for csv in os.listdir(csv_path):\n",
    "    dfs.append(pd.read_csv(os.path.join(csv_path, csv), index_col=0))\n",
    "\n",
    "df = pd.concat(dfs)"
   ]
  },
  {
   "cell_type": "markdown",
   "metadata": {},
   "source": [
    "#### Type conversion and data cleanup"
   ]
  },
  {
   "cell_type": "code",
   "execution_count": 6,
   "metadata": {},
   "outputs": [],
   "source": [
    "df = df[df['episodes'] != 'Unknown']\n",
    "df['episodes'] = df['episodes'].astype(int)\n",
    "\n",
    "df['favorites'] = df['favorites'].astype(int)\n",
    "\n",
    "df['members'] = df['members'].astype(int)\n",
    "\n",
    "df = df.dropna()"
   ]
  },
  {
   "cell_type": "code",
   "execution_count": 7,
   "metadata": {},
   "outputs": [],
   "source": [
    "def parseScoreAndScorer(score_and_scorers_raw, position):\n",
    "    try:\n",
    "        numerical_version = float(score_and_scorers_raw.split(', ')[position].strip())\n",
    "        return numerical_version\n",
    "    except:\n",
    "        return pd.NaT\n",
    "    \n",
    "df['score'] = df['score_and_scorers'].apply(lambda s: parseScoreAndScorer(s, 0)).astype(float)\n",
    "df['scorer'] = df['score_and_scorers'].apply(lambda s: parseScoreAndScorer(s, 1)).astype(int)\n",
    "df = df.dropna()\n",
    "df = df.drop('score_and_scorers', axis=1)"
   ]
  },
  {
   "cell_type": "markdown",
   "metadata": {},
   "source": [
    "#### Time data parsing"
   ]
  },
  {
   "cell_type": "code",
   "execution_count": 8,
   "metadata": {},
   "outputs": [],
   "source": [
    "def broadcastParse(broadcast_raw): # This parses through the broadcast time\n",
    "    broadcast_split = [bc_time.strip() for bc_time in broadcast_raw.split(' at ')]\n",
    "    if (len(broadcast_split) == 1) or ('Unknown' in broadcast_split):\n",
    "        return pd.NaT\n",
    "    broadcast_split[0] = broadcast_split[0][:-1]\n",
    "    broadcast_split[1] = broadcast_split[1][:5]\n",
    "    broadcast_string = \" \".join(broadcast_split)\n",
    "    \n",
    "    return broadcast_string\n",
    "\n",
    "df['broadcast_time'] = df['broadcast_time'].apply(broadcastParse)\n",
    "df = df.dropna()\n",
    "df['broadcast_time'] = pd.to_datetime(df['broadcast_time'], format='%A %H %M')"
   ]
  },
  {
   "cell_type": "code",
   "execution_count": 9,
   "metadata": {},
   "outputs": [
    {
     "data": {
      "text/html": [
       "<div>\n",
       "<style scoped>\n",
       "    .dataframe tbody tr th:only-of-type {\n",
       "        vertical-align: middle;\n",
       "    }\n",
       "\n",
       "    .dataframe tbody tr th {\n",
       "        vertical-align: top;\n",
       "    }\n",
       "\n",
       "    .dataframe thead th {\n",
       "        text-align: right;\n",
       "    }\n",
       "</style>\n",
       "<table border=\"1\" class=\"dataframe\">\n",
       "  <thead>\n",
       "    <tr style=\"text-align: right;\">\n",
       "      <th></th>\n",
       "      <th>name_japanese</th>\n",
       "      <th>show_type</th>\n",
       "      <th>episodes</th>\n",
       "      <th>status</th>\n",
       "      <th>aired</th>\n",
       "      <th>broadcast_time</th>\n",
       "      <th>producers</th>\n",
       "      <th>licensors</th>\n",
       "      <th>studios</th>\n",
       "      <th>source</th>\n",
       "      <th>genres</th>\n",
       "      <th>episode_length</th>\n",
       "      <th>rating</th>\n",
       "      <th>members</th>\n",
       "      <th>favorites</th>\n",
       "      <th>description</th>\n",
       "      <th>score</th>\n",
       "      <th>scorer</th>\n",
       "    </tr>\n",
       "    <tr>\n",
       "      <th>name_english</th>\n",
       "      <th></th>\n",
       "      <th></th>\n",
       "      <th></th>\n",
       "      <th></th>\n",
       "      <th></th>\n",
       "      <th></th>\n",
       "      <th></th>\n",
       "      <th></th>\n",
       "      <th></th>\n",
       "      <th></th>\n",
       "      <th></th>\n",
       "      <th></th>\n",
       "      <th></th>\n",
       "      <th></th>\n",
       "      <th></th>\n",
       "      <th></th>\n",
       "      <th></th>\n",
       "      <th></th>\n",
       "    </tr>\n",
       "  </thead>\n",
       "  <tbody>\n",
       "    <tr>\n",
       "      <th>Fullmetal Alchemist Brotherhood</th>\n",
       "      <td>鋼の錬金術師 FULLMETAL ALCHEMIST</td>\n",
       "      <td>TV</td>\n",
       "      <td>64</td>\n",
       "      <td>Finished Airing</td>\n",
       "      <td>Apr 5, 2009 to Jul 4, 2010</td>\n",
       "      <td>1900-01-01 17:00:00</td>\n",
       "      <td>Aniplex, Square Enix, Mainichi Broadcasting Sy...</td>\n",
       "      <td>Funimation, Aniplex of America</td>\n",
       "      <td>Bones</td>\n",
       "      <td>Manga</td>\n",
       "      <td>Action, Military, Adventure, Comedy, Drama, Ma...</td>\n",
       "      <td>24</td>\n",
       "      <td>R</td>\n",
       "      <td>2035061</td>\n",
       "      <td>168400</td>\n",
       "      <td>\"In order for something to be obtained, someth...</td>\n",
       "      <td>9.22</td>\n",
       "      <td>1238537</td>\n",
       "    </tr>\n",
       "    <tr>\n",
       "      <th>Steins;Gate</th>\n",
       "      <td>STEINS;GATE</td>\n",
       "      <td>TV</td>\n",
       "      <td>24</td>\n",
       "      <td>Finished Airing</td>\n",
       "      <td>Apr 6, 2011 to Sep 14, 2011</td>\n",
       "      <td>1900-01-01 02:05:00</td>\n",
       "      <td>Frontier Works, Media Factory, Movic, AT-X, Ka...</td>\n",
       "      <td>Funimation</td>\n",
       "      <td>White Fox</td>\n",
       "      <td>Visual novel</td>\n",
       "      <td>Thriller, Sci-Fi</td>\n",
       "      <td>24</td>\n",
       "      <td>PG-13</td>\n",
       "      <td>1643043</td>\n",
       "      <td>140395</td>\n",
       "      <td>The self-proclaimed mad scientist Rintarou Oka...</td>\n",
       "      <td>9.12</td>\n",
       "      <td>888306</td>\n",
       "    </tr>\n",
       "    <tr>\n",
       "      <th>Gintama Season 4</th>\n",
       "      <td>銀魂°</td>\n",
       "      <td>TV</td>\n",
       "      <td>51</td>\n",
       "      <td>Finished Airing</td>\n",
       "      <td>Apr 8, 2015 to Mar 30, 2016</td>\n",
       "      <td>1900-01-01 18:00:00</td>\n",
       "      <td>TV Tokyo, Aniplex, Dentsu</td>\n",
       "      <td>Funimation, Crunchyroll</td>\n",
       "      <td>Bandai Namco Pictures</td>\n",
       "      <td>Manga</td>\n",
       "      <td>Action, Comedy, Historical, Parody, Samurai, S...</td>\n",
       "      <td>24</td>\n",
       "      <td>PG-13</td>\n",
       "      <td>365696</td>\n",
       "      <td>10417</td>\n",
       "      <td>Gintoki, Shinpachi, and Kagura return as the f...</td>\n",
       "      <td>9.11</td>\n",
       "      <td>127501</td>\n",
       "    </tr>\n",
       "    <tr>\n",
       "      <th>Hunter x Hunter</th>\n",
       "      <td>HUNTER×HUNTER（ハンター×ハンター）</td>\n",
       "      <td>TV</td>\n",
       "      <td>148</td>\n",
       "      <td>Finished Airing</td>\n",
       "      <td>Oct 2, 2011 to Sep 24, 2014</td>\n",
       "      <td>1900-01-01 10:55:00</td>\n",
       "      <td>VAP, Nippon Television Network, Shueisha</td>\n",
       "      <td>Viz Media</td>\n",
       "      <td>Madhouse</td>\n",
       "      <td>Manga</td>\n",
       "      <td>Action, Adventure, Fantasy, Shounen, Super Power</td>\n",
       "      <td>23</td>\n",
       "      <td>PG-13</td>\n",
       "      <td>1469739</td>\n",
       "      <td>131325</td>\n",
       "      <td>Hunter x Hunter is set in a world where Hunter...</td>\n",
       "      <td>9.11</td>\n",
       "      <td>834570</td>\n",
       "    </tr>\n",
       "    <tr>\n",
       "      <th>Gintama Season 2</th>\n",
       "      <td>銀魂'</td>\n",
       "      <td>TV</td>\n",
       "      <td>51</td>\n",
       "      <td>Finished Airing</td>\n",
       "      <td>Apr 4, 2011 to Mar 26, 2012</td>\n",
       "      <td>1900-01-01 18:00:00</td>\n",
       "      <td>TV Tokyo, Aniplex, Dentsu, Trinity Sound, Mira...</td>\n",
       "      <td>add some</td>\n",
       "      <td>Sunrise</td>\n",
       "      <td>Manga</td>\n",
       "      <td>Action, Sci-Fi, Comedy, Historical, Parody, Sa...</td>\n",
       "      <td>24</td>\n",
       "      <td>PG-13</td>\n",
       "      <td>338508</td>\n",
       "      <td>6034</td>\n",
       "      <td>After a one-year hiatus, Shinpachi Shimura ret...</td>\n",
       "      <td>9.08</td>\n",
       "      <td>141097</td>\n",
       "    </tr>\n",
       "    <tr>\n",
       "      <th>...</th>\n",
       "      <td>...</td>\n",
       "      <td>...</td>\n",
       "      <td>...</td>\n",
       "      <td>...</td>\n",
       "      <td>...</td>\n",
       "      <td>...</td>\n",
       "      <td>...</td>\n",
       "      <td>...</td>\n",
       "      <td>...</td>\n",
       "      <td>...</td>\n",
       "      <td>...</td>\n",
       "      <td>...</td>\n",
       "      <td>...</td>\n",
       "      <td>...</td>\n",
       "      <td>...</td>\n",
       "      <td>...</td>\n",
       "      <td>...</td>\n",
       "      <td>...</td>\n",
       "    </tr>\n",
       "    <tr>\n",
       "      <th>Project Blue Earth SOS</th>\n",
       "      <td>Project BLUE 地球SOS</td>\n",
       "      <td>TV</td>\n",
       "      <td>6</td>\n",
       "      <td>Finished Airing</td>\n",
       "      <td>Jul 2, 2006 to Dec 3, 2006</td>\n",
       "      <td>1900-01-01 23:00:00</td>\n",
       "      <td>add some</td>\n",
       "      <td>ADV Films, Funimation</td>\n",
       "      <td>A.C.G.T.</td>\n",
       "      <td>Unknown</td>\n",
       "      <td>Sci-Fi, Adventure, Comedy, Shounen</td>\n",
       "      <td>45</td>\n",
       "      <td>PG-13</td>\n",
       "      <td>2870</td>\n",
       "      <td>5</td>\n",
       "      <td>In this exhilarating series paying homage to c...</td>\n",
       "      <td>6.68</td>\n",
       "      <td>873</td>\n",
       "    </tr>\n",
       "    <tr>\n",
       "      <th>NaN</th>\n",
       "      <td>ストラトス・フォー</td>\n",
       "      <td>TV</td>\n",
       "      <td>13</td>\n",
       "      <td>Finished Airing</td>\n",
       "      <td>Jan 5, 2003 to Mar 30, 2003</td>\n",
       "      <td>1900-01-01 00:30:00</td>\n",
       "      <td>Bandai Visual</td>\n",
       "      <td>Bandai Entertainment</td>\n",
       "      <td>Studio Fantasia</td>\n",
       "      <td>Original</td>\n",
       "      <td>Comedy, Military, Sci-Fi, Shounen</td>\n",
       "      <td>23</td>\n",
       "      <td>PG-13</td>\n",
       "      <td>9560</td>\n",
       "      <td>27</td>\n",
       "      <td>The Earth has developed a defense system again...</td>\n",
       "      <td>6.67</td>\n",
       "      <td>3705</td>\n",
       "    </tr>\n",
       "    <tr>\n",
       "      <th>Angel's 3Piece!</th>\n",
       "      <td>天使の3P！〈スリーピース〉</td>\n",
       "      <td>TV</td>\n",
       "      <td>12</td>\n",
       "      <td>Finished Airing</td>\n",
       "      <td>Jul 10, 2017 to Sep 25, 2017</td>\n",
       "      <td>1900-01-01 20:00:00</td>\n",
       "      <td>Sotsu, Lantis, AT-X, Barnum Studio, KlockWorx,...</td>\n",
       "      <td>Discotek Media</td>\n",
       "      <td>Project No.9</td>\n",
       "      <td>Light novel</td>\n",
       "      <td>Music, School, Slice of Life</td>\n",
       "      <td>23</td>\n",
       "      <td>PG-13</td>\n",
       "      <td>47953</td>\n",
       "      <td>75</td>\n",
       "      <td>Since entering high school, Kyou Nukui has not...</td>\n",
       "      <td>6.67</td>\n",
       "      <td>16646</td>\n",
       "    </tr>\n",
       "    <tr>\n",
       "      <th>Yu-Gi-Oh! VRAINS</th>\n",
       "      <td>遊戯王VRAINS</td>\n",
       "      <td>TV</td>\n",
       "      <td>120</td>\n",
       "      <td>Finished Airing</td>\n",
       "      <td>May 10, 2017 to Sep 25, 2019</td>\n",
       "      <td>1900-01-01 18:25:00</td>\n",
       "      <td>TV Tokyo, Nihon Ad Systems</td>\n",
       "      <td>add some</td>\n",
       "      <td>Gallop</td>\n",
       "      <td>Card game</td>\n",
       "      <td>Action, Game, Sci-Fi, Fantasy, Shounen</td>\n",
       "      <td>24</td>\n",
       "      <td>PG-13</td>\n",
       "      <td>30375</td>\n",
       "      <td>217</td>\n",
       "      <td>In the city of Den City, thousands of duelists...</td>\n",
       "      <td>6.67</td>\n",
       "      <td>7385</td>\n",
       "    </tr>\n",
       "    <tr>\n",
       "      <th>Cat Planet Cuties</th>\n",
       "      <td>あそびにいくヨ!</td>\n",
       "      <td>TV</td>\n",
       "      <td>12</td>\n",
       "      <td>Finished Airing</td>\n",
       "      <td>Jul 11, 2010 to Sep 26, 2010</td>\n",
       "      <td>1900-01-01 01:58:00</td>\n",
       "      <td>AIC, Lantis, Media Factory, Pony Canyon, Rakuo...</td>\n",
       "      <td>Funimation</td>\n",
       "      <td>AIC Plus+</td>\n",
       "      <td>Light novel</td>\n",
       "      <td>Comedy, Ecchi, Harem, Romance, Sci-Fi</td>\n",
       "      <td>24</td>\n",
       "      <td>R+</td>\n",
       "      <td>156612</td>\n",
       "      <td>485</td>\n",
       "      <td>Kio is just another boring, nice guy with a bo...</td>\n",
       "      <td>6.67</td>\n",
       "      <td>72526</td>\n",
       "    </tr>\n",
       "  </tbody>\n",
       "</table>\n",
       "<p>2231 rows × 18 columns</p>\n",
       "</div>"
      ],
      "text/plain": [
       "                                              name_japanese show_type  \\\n",
       "name_english                                                            \n",
       "Fullmetal Alchemist Brotherhood  鋼の錬金術師 FULLMETAL ALCHEMIST        TV   \n",
       "Steins;Gate                                     STEINS;GATE        TV   \n",
       "Gintama Season 4                                        銀魂°        TV   \n",
       "Hunter x Hunter                    HUNTER×HUNTER（ハンター×ハンター）        TV   \n",
       "Gintama Season 2                                        銀魂'        TV   \n",
       "...                                                     ...       ...   \n",
       "Project Blue Earth SOS                   Project BLUE 地球SOS        TV   \n",
       "NaN                                               ストラトス・フォー        TV   \n",
       "Angel's 3Piece!                              天使の3P！〈スリーピース〉        TV   \n",
       "Yu-Gi-Oh! VRAINS                                  遊戯王VRAINS        TV   \n",
       "Cat Planet Cuties                                  あそびにいくヨ!        TV   \n",
       "\n",
       "                                 episodes           status  \\\n",
       "name_english                                                 \n",
       "Fullmetal Alchemist Brotherhood        64  Finished Airing   \n",
       "Steins;Gate                            24  Finished Airing   \n",
       "Gintama Season 4                       51  Finished Airing   \n",
       "Hunter x Hunter                       148  Finished Airing   \n",
       "Gintama Season 2                       51  Finished Airing   \n",
       "...                                   ...              ...   \n",
       "Project Blue Earth SOS                  6  Finished Airing   \n",
       "NaN                                    13  Finished Airing   \n",
       "Angel's 3Piece!                        12  Finished Airing   \n",
       "Yu-Gi-Oh! VRAINS                      120  Finished Airing   \n",
       "Cat Planet Cuties                      12  Finished Airing   \n",
       "\n",
       "                                                        aired  \\\n",
       "name_english                                                    \n",
       "Fullmetal Alchemist Brotherhood    Apr 5, 2009 to Jul 4, 2010   \n",
       "Steins;Gate                       Apr 6, 2011 to Sep 14, 2011   \n",
       "Gintama Season 4                  Apr 8, 2015 to Mar 30, 2016   \n",
       "Hunter x Hunter                   Oct 2, 2011 to Sep 24, 2014   \n",
       "Gintama Season 2                  Apr 4, 2011 to Mar 26, 2012   \n",
       "...                                                       ...   \n",
       "Project Blue Earth SOS             Jul 2, 2006 to Dec 3, 2006   \n",
       "NaN                               Jan 5, 2003 to Mar 30, 2003   \n",
       "Angel's 3Piece!                  Jul 10, 2017 to Sep 25, 2017   \n",
       "Yu-Gi-Oh! VRAINS                 May 10, 2017 to Sep 25, 2019   \n",
       "Cat Planet Cuties                Jul 11, 2010 to Sep 26, 2010   \n",
       "\n",
       "                                     broadcast_time  \\\n",
       "name_english                                          \n",
       "Fullmetal Alchemist Brotherhood 1900-01-01 17:00:00   \n",
       "Steins;Gate                     1900-01-01 02:05:00   \n",
       "Gintama Season 4                1900-01-01 18:00:00   \n",
       "Hunter x Hunter                 1900-01-01 10:55:00   \n",
       "Gintama Season 2                1900-01-01 18:00:00   \n",
       "...                                             ...   \n",
       "Project Blue Earth SOS          1900-01-01 23:00:00   \n",
       "NaN                             1900-01-01 00:30:00   \n",
       "Angel's 3Piece!                 1900-01-01 20:00:00   \n",
       "Yu-Gi-Oh! VRAINS                1900-01-01 18:25:00   \n",
       "Cat Planet Cuties               1900-01-01 01:58:00   \n",
       "\n",
       "                                                                         producers  \\\n",
       "name_english                                                                         \n",
       "Fullmetal Alchemist Brotherhood  Aniplex, Square Enix, Mainichi Broadcasting Sy...   \n",
       "Steins;Gate                      Frontier Works, Media Factory, Movic, AT-X, Ka...   \n",
       "Gintama Season 4                                         TV Tokyo, Aniplex, Dentsu   \n",
       "Hunter x Hunter                           VAP, Nippon Television Network, Shueisha   \n",
       "Gintama Season 2                 TV Tokyo, Aniplex, Dentsu, Trinity Sound, Mira...   \n",
       "...                                                                            ...   \n",
       "Project Blue Earth SOS                                                    add some   \n",
       "NaN                                                                  Bandai Visual   \n",
       "Angel's 3Piece!                  Sotsu, Lantis, AT-X, Barnum Studio, KlockWorx,...   \n",
       "Yu-Gi-Oh! VRAINS                                        TV Tokyo, Nihon Ad Systems   \n",
       "Cat Planet Cuties                AIC, Lantis, Media Factory, Pony Canyon, Rakuo...   \n",
       "\n",
       "                                                      licensors  \\\n",
       "name_english                                                      \n",
       "Fullmetal Alchemist Brotherhood  Funimation, Aniplex of America   \n",
       "Steins;Gate                                          Funimation   \n",
       "Gintama Season 4                        Funimation, Crunchyroll   \n",
       "Hunter x Hunter                                       Viz Media   \n",
       "Gintama Season 2                                       add some   \n",
       "...                                                         ...   \n",
       "Project Blue Earth SOS                    ADV Films, Funimation   \n",
       "NaN                                        Bandai Entertainment   \n",
       "Angel's 3Piece!                                  Discotek Media   \n",
       "Yu-Gi-Oh! VRAINS                                       add some   \n",
       "Cat Planet Cuties                                    Funimation   \n",
       "\n",
       "                                               studios        source  \\\n",
       "name_english                                                           \n",
       "Fullmetal Alchemist Brotherhood                  Bones         Manga   \n",
       "Steins;Gate                                  White Fox  Visual novel   \n",
       "Gintama Season 4                 Bandai Namco Pictures         Manga   \n",
       "Hunter x Hunter                               Madhouse         Manga   \n",
       "Gintama Season 2                               Sunrise         Manga   \n",
       "...                                                ...           ...   \n",
       "Project Blue Earth SOS                        A.C.G.T.       Unknown   \n",
       "NaN                                    Studio Fantasia      Original   \n",
       "Angel's 3Piece!                           Project No.9   Light novel   \n",
       "Yu-Gi-Oh! VRAINS                                Gallop     Card game   \n",
       "Cat Planet Cuties                            AIC Plus+   Light novel   \n",
       "\n",
       "                                                                            genres  \\\n",
       "name_english                                                                         \n",
       "Fullmetal Alchemist Brotherhood  Action, Military, Adventure, Comedy, Drama, Ma...   \n",
       "Steins;Gate                                                       Thriller, Sci-Fi   \n",
       "Gintama Season 4                 Action, Comedy, Historical, Parody, Samurai, S...   \n",
       "Hunter x Hunter                   Action, Adventure, Fantasy, Shounen, Super Power   \n",
       "Gintama Season 2                 Action, Sci-Fi, Comedy, Historical, Parody, Sa...   \n",
       "...                                                                            ...   \n",
       "Project Blue Earth SOS                          Sci-Fi, Adventure, Comedy, Shounen   \n",
       "NaN                                              Comedy, Military, Sci-Fi, Shounen   \n",
       "Angel's 3Piece!                                       Music, School, Slice of Life   \n",
       "Yu-Gi-Oh! VRAINS                            Action, Game, Sci-Fi, Fantasy, Shounen   \n",
       "Cat Planet Cuties                            Comedy, Ecchi, Harem, Romance, Sci-Fi   \n",
       "\n",
       "                                episode_length rating  members  favorites  \\\n",
       "name_english                                                                \n",
       "Fullmetal Alchemist Brotherhood             24      R  2035061     168400   \n",
       "Steins;Gate                                 24  PG-13  1643043     140395   \n",
       "Gintama Season 4                            24  PG-13   365696      10417   \n",
       "Hunter x Hunter                             23  PG-13  1469739     131325   \n",
       "Gintama Season 2                            24  PG-13   338508       6034   \n",
       "...                                        ...    ...      ...        ...   \n",
       "Project Blue Earth SOS                      45  PG-13     2870          5   \n",
       "NaN                                         23  PG-13     9560         27   \n",
       "Angel's 3Piece!                             23  PG-13    47953         75   \n",
       "Yu-Gi-Oh! VRAINS                            24  PG-13    30375        217   \n",
       "Cat Planet Cuties                           24     R+   156612        485   \n",
       "\n",
       "                                                                       description  \\\n",
       "name_english                                                                         \n",
       "Fullmetal Alchemist Brotherhood  \"In order for something to be obtained, someth...   \n",
       "Steins;Gate                      The self-proclaimed mad scientist Rintarou Oka...   \n",
       "Gintama Season 4                 Gintoki, Shinpachi, and Kagura return as the f...   \n",
       "Hunter x Hunter                  Hunter x Hunter is set in a world where Hunter...   \n",
       "Gintama Season 2                 After a one-year hiatus, Shinpachi Shimura ret...   \n",
       "...                                                                            ...   \n",
       "Project Blue Earth SOS           In this exhilarating series paying homage to c...   \n",
       "NaN                              The Earth has developed a defense system again...   \n",
       "Angel's 3Piece!                  Since entering high school, Kyou Nukui has not...   \n",
       "Yu-Gi-Oh! VRAINS                 In the city of Den City, thousands of duelists...   \n",
       "Cat Planet Cuties                Kio is just another boring, nice guy with a bo...   \n",
       "\n",
       "                                 score   scorer  \n",
       "name_english                                     \n",
       "Fullmetal Alchemist Brotherhood   9.22  1238537  \n",
       "Steins;Gate                       9.12   888306  \n",
       "Gintama Season 4                  9.11   127501  \n",
       "Hunter x Hunter                   9.11   834570  \n",
       "Gintama Season 2                  9.08   141097  \n",
       "...                                ...      ...  \n",
       "Project Blue Earth SOS            6.68      873  \n",
       "NaN                               6.67     3705  \n",
       "Angel's 3Piece!                   6.67    16646  \n",
       "Yu-Gi-Oh! VRAINS                  6.67     7385  \n",
       "Cat Planet Cuties                 6.67    72526  \n",
       "\n",
       "[2231 rows x 18 columns]"
      ]
     },
     "execution_count": 9,
     "metadata": {},
     "output_type": "execute_result"
    }
   ],
   "source": [
    "# This one needs to parse the minutes/hours for the episode length\n",
    "def timeParse(time_raw):\n",
    "    time_split = time_raw.split(' ')\n",
    "    if time_split[1] == 'min.':\n",
    "        return int(time_split[0])\n",
    "    elif time_split[1] == 'hr.':\n",
    "        if time_split[3] == 'min.':\n",
    "            return int(time_split[0]) * 60 + int(time_split[2])\n",
    "        else:\n",
    "            return int(time_split[0]) * 60 # This will make sure that if there is only an hour it will not break\n",
    "    else:\n",
    "        return pd.NaT\n",
    "    \n",
    "df['episode_length'] = df['episode_length'].apply(timeParse)\n",
    "df.dropna()"
   ]
  },
  {
   "cell_type": "code",
   "execution_count": 10,
   "metadata": {},
   "outputs": [],
   "source": [
    "def parseAired(aired_raw, position):\n",
    "    aired_split = aired_raw.split(' to ')\n",
    "    try:\n",
    "        aired_parsed = \" \".join(aired_split[position].strip().split(\", \"))\n",
    "        aired_formatted = str(time.strftime('%d %m %Y', time.strptime(aired_parsed, '%b %d %Y')))\n",
    "        return aired_formatted\n",
    "    except:\n",
    "        return pd.NaT\n",
    "\n",
    "df['aired_start'] = pd.to_datetime(df['aired'].apply(lambda s: parseAired(s, 0)), format='%d %m %Y')\n",
    "df['aired_end'] = pd.to_datetime(df['aired'].apply(lambda s: parseAired(s, 1)), format='%d %m %Y')\n",
    "df = df.drop('aired', axis=1)\n",
    "df = df.dropna()"
   ]
  },
  {
   "cell_type": "markdown",
   "metadata": {},
   "source": [
    "### Data analysis"
   ]
  },
  {
   "cell_type": "markdown",
   "metadata": {},
   "source": [
    "#### Question 1: What is the highest rated show in consideration with the amount of users?"
   ]
  },
  {
   "cell_type": "code",
   "execution_count": 11,
   "metadata": {},
   "outputs": [
    {
     "data": {
      "text/plain": [
       "name_english\n",
       "Fullmetal Alchemist Brotherhood    692.685416\n",
       "Steins;Gate                        594.449041\n",
       "Hunter x Hunter                    559.581280\n",
       "Death Note                         542.964682\n",
       "One Punch Man                      485.689558\n",
       "                                      ...    \n",
       "NaN                               -143.503264\n",
       "NaN                               -144.930863\n",
       "King's Game                       -176.849661\n",
       "School Days                       -193.818753\n",
       "Pupa                              -291.695908\n",
       "Length: 2196, dtype: float64"
      ]
     },
     "execution_count": 11,
     "metadata": {},
     "output_type": "execute_result"
    }
   ],
   "source": [
    "# To solve this we say the rating is the probability of an anime being good, then we take the Z-scores \n",
    "# and we look at the highest Z-score which means it will be the anime that exceeds the average \n",
    "# chance of it being good based on its members\n",
    "good_probability = df['score'].mean() / 10\n",
    "probabilities = df['score'] / 10\n",
    "stds = (good_probability * (1 - good_probability) / df['members']) ** 0.5\n",
    "weighted_rating = (probabilities - good_probability) / stds\n",
    "\n",
    "weighted_rating.sort_values(ascending=False)"
   ]
  },
  {
   "cell_type": "markdown",
   "metadata": {},
   "source": [
    "##### The best anime with the highest score based on its users is Fullmetal Alchemist as it has the highest Z-score above the mean rating based on it's users compared to the others"
   ]
  },
  {
   "cell_type": "markdown",
   "metadata": {},
   "source": [
    "#### Question 2: What is the most popular genre on average?"
   ]
  },
  {
   "cell_type": "code",
   "execution_count": 88,
   "metadata": {},
   "outputs": [
    {
     "data": {
      "text/plain": [
       "<AxesSubplot:xlabel='genres'>"
      ]
     },
     "execution_count": 88,
     "metadata": {},
     "output_type": "execute_result"
    },
    {
     "data": {
      "image/png": "[encoded data removed]",
      "text/plain": [
       "<Figure size 864x432 with 1 Axes>"
      ]
     },
     "metadata": {
      "needs_background": "light"
     },
     "output_type": "display_data"
    }
   ],
   "source": [
    "# To do this we are going to have to gather all of the different genre's and then make a new dataframe with these genres\n",
    "# and then look at the one with the highest memberbase\n",
    "df = df[df['producers'] != 'add some']\n",
    "df = df[df['licensors'] != 'add some']\n",
    "df = df[df['genres'] != 'add some']\n",
    "\n",
    "genres = []\n",
    "def makeDataList(array_string, data_list):\n",
    "    split_string = array_string.split(\", \")\n",
    "    for item in split_string:\n",
    "        if item not in data_list:\n",
    "            data_list.append(item)\n",
    "\n",
    "df['genres'].apply(lambda s: makeDataList(s, genres))\n",
    "\n",
    "genre_df = pd.DataFrame()\n",
    "\n",
    "averages = []\n",
    "for genre in genres:\n",
    "    dummy_df = df[df['genres'].str.contains(genre)]\n",
    "    average_members = dummy_df['members'].mean()\n",
    "    averages.append(average_members)\n",
    "\n",
    "genre_df['genres'] = genres\n",
    "genre_df['averages'] = averages\n",
    "\n",
    "genre_df.plot.bar(x='genres', y='averages', grid=True, color='blue')"
   ]
  },
  {
   "cell_type": "markdown",
   "metadata": {},
   "source": [
    "##### The most popular genre on average was police, followed by mecha and then super power"
   ]
  },
  {
   "cell_type": "markdown",
   "metadata": {},
   "source": [
    "#### Question 3: What is the best month of the to launch a show for the most viewers?"
   ]
  },
  {
   "cell_type": "code",
   "execution_count": 84,
   "metadata": {},
   "outputs": [
    {
     "data": {
      "text/plain": [
       "<AxesSubplot:xlabel='aired_month'>"
      ]
     },
     "execution_count": 84,
     "metadata": {},
     "output_type": "execute_result"
    },
    {
     "data": {
      "image/png": "[encoded data removed]",
      "text/plain": [
       "<Figure size 864x432 with 1 Axes>"
      ]
     },
     "metadata": {
      "needs_background": "light"
     },
     "output_type": "display_data"
    }
   ],
   "source": [
    "# Make seperate columns of the hour and then group by the hour under the average\n",
    "viewers_df = df.copy()\n",
    "viewers_df['aired_month'] = viewers_df['aired_start'].dt.month # Sort this dataframe by the column\n",
    "\n",
    "viewers_df = viewers_df.groupby('aired_month').mean()\n",
    "viewers_df.index = pd.to_datetime(viewers_df.index, format='%m').month_name().str[:3]\n",
    "viewers_df = viewers_df.drop(['episodes', 'favorites', 'score', 'scorer'], axis=1)\n",
    "\n",
    "viewers_df.plot.bar(grid=True, color='red')"
   ]
  },
  {
   "cell_type": "markdown",
   "metadata": {},
   "source": [
    "##### The most successful anime's with the largest amount of watchers on average were released in April, followed by May, meaning these are the best times to put out an anime for the most amount of watches"
   ]
  },
  {
   "cell_type": "markdown",
   "metadata": {},
   "source": [
    "#### Question 4: What was the best time to broadcast"
   ]
  },
  {
   "cell_type": "code",
   "execution_count": 83,
   "metadata": {},
   "outputs": [
    {
     "data": {
      "text/plain": [
       "<AxesSubplot:xlabel='broadcast_hour'>"
      ]
     },
     "execution_count": 83,
     "metadata": {},
     "output_type": "execute_result"
    },
    {
     "data": {
      "image/png": "[encoded data removed]",
      "text/plain": [
       "<Figure size 864x432 with 1 Axes>"
      ]
     },
     "metadata": {
      "needs_background": "light"
     },
     "output_type": "display_data"
    }
   ],
   "source": [
    "# We want to make a seperate column for the broadcast time in terms of its hour during the day\n",
    "bc_df = df.copy()\n",
    "bc_df['broadcast_hour'] = bc_df['broadcast_time'].dt.hour\n",
    "bc_df = bc_df.groupby('broadcast_hour').mean()\n",
    "bc_df = bc_df.drop(['episodes', 'favorites', 'score', 'scorer'], axis=1)\n",
    "\n",
    "bc_df.plot.bar(grid=True, color='orange')"
   ]
  },
  {
   "cell_type": "markdown",
   "metadata": {},
   "source": [
    "##### The shows with the highest amount of watchers were released around 10:00AM, therefore the best time to release a show to maximize viewers is at 10:00AM"
   ]
  },
  {
   "cell_type": "markdown",
   "metadata": {},
   "source": [
    "#### Question 5: What studios have the best ratings with consideration for the amount of users?"
   ]
  },
  {
   "cell_type": "code",
   "execution_count": 82,
   "metadata": {},
   "outputs": [
    {
     "name": "stdout",
     "output_type": "stream",
     "text": [
      "The studio with the best average ratings based on the amount of members is Wit Studio.\n",
      "\n",
      "Studios rated from best ratings to worst ratings:\n",
      "4                               Wit Studio\n",
      "7                          Kyoto Animation\n",
      "69                   Hoods Drifters Studio\n",
      "113                                  Shuka\n",
      "1                                White Fox\n",
      "                      ...                 \n",
      "48                               GEEK TOYS\n",
      "141    Children's Playground Entertainment\n",
      "47                                   Seven\n",
      "107                            EMT Squared\n",
      "133                    Seven Arcs Pictures\n",
      "Name: studios, Length: 184, dtype: object\n"
     ]
    }
   ],
   "source": [
    "# Use the standard deviation except this time use the data from the other Z-Scores to find where the studios are the best\n",
    "# Using the same parsing function defined in the popular genre\n",
    "\n",
    "studios = []\n",
    "df['studios'].apply(lambda s: makeDataList(s, studios))\n",
    "\n",
    "studio_df = pd.DataFrame()\n",
    "\n",
    "average_ratings = []\n",
    "average_members = []\n",
    "for studio in studios:\n",
    "    dummy_df = df[df['studios'].str.contains(studio)]\n",
    "    rating_average = dummy_df['score'].mean()\n",
    "    member_average = dummy_df['members'].mean()\n",
    "    average_ratings.append(rating_average)\n",
    "    average_members.append(member_average)\n",
    "\n",
    "studio_df['studios'] = studios\n",
    "studio_df['average_ratings'] = average_ratings\n",
    "studio_df['average_members'] = average_members\n",
    "\n",
    "good_probability = studio_df['average_ratings'].mean() / 10\n",
    "probabilities = studio_df['average_ratings'] / 10\n",
    "stds = (good_probability * (1 - good_probability) / studio_df['average_members']) ** 0.5\n",
    "studio_df['weighted_rating'] = (probabilities - good_probability) / stds\n",
    "\n",
    "best_scored_studios = studio_df.sort_values(ascending=False, by='weighted_rating').iloc[:, 0]\n",
    "print(f\"The studio with the best average ratings based on the amount of members is {best_scored_studios.iloc[0]}.\\n\")\n",
    "print(f\"Studios rated from best ratings to worst ratings:\\n{best_scored_studios}\")"
   ]
  },
  {
   "cell_type": "markdown",
   "metadata": {},
   "source": [
    "##### The studio with the highest average score across all of the scorers is Wit Studio, followed by Kyoto Animation. The studio with the lowest score acorss scoters is Seven Arcs Pictures."
   ]
  },
  {
   "cell_type": "markdown",
   "metadata": {},
   "source": [
    "#### Question 6: What licensors have the best ratings with consideration for the amount of users?"
   ]
  },
  {
   "cell_type": "code",
   "execution_count": 50,
   "metadata": {},
   "outputs": [
    {
     "name": "stdout",
     "output_type": "stream",
     "text": [
      "The licensor with the best ratings for it's amount of watchers is Pied Piper\n",
      "\n"
     ]
    },
    {
     "data": {
      "text/plain": [
       "Text(0.5, 1.0, 'Standard deviations above the mean score for licensors')"
      ]
     },
     "execution_count": 50,
     "metadata": {},
     "output_type": "execute_result"
    },
    {
     "data": {
      "image/png": "[encoded data removed]",
      "text/plain": [
       "<Figure size 864x432 with 1 Axes>"
      ]
     },
     "metadata": {
      "needs_background": "light"
     },
     "output_type": "display_data"
    }
   ],
   "source": [
    "# Similar question to question 5, so we will answer it in a similar way\n",
    "\n",
    "licensors = []\n",
    "df['licensors'].apply(lambda s: makeDataList(s, licensors))\n",
    "\n",
    "licensor_df = pd.DataFrame()\n",
    "\n",
    "average_ratings = []\n",
    "average_members = []\n",
    "for licensor in licensors:\n",
    "    dummy_df = df[df['licensors'].str.contains(licensor)]\n",
    "    rating_average = dummy_df['score'].mean()\n",
    "    member_average = dummy_df['members'].mean()\n",
    "    average_ratings.append(rating_average)\n",
    "    average_members.append(member_average)\n",
    "\n",
    "licensor_df['licensors'] = licensors\n",
    "licensor_df['average_ratings'] = average_ratings\n",
    "licensor_df['average_members'] = average_members\n",
    "\n",
    "good_probability = licensor_df['average_ratings'].mean() / 10\n",
    "probabilities = licensor_df['average_ratings'] / 10\n",
    "stds = (good_probability * (1 - good_probability) / licensor_df['average_members']) ** 0.5\n",
    "licensor_df['weighted_rating'] = (probabilities - good_probability) / stds\n",
    "\n",
    "print(f\"The licensor with the best ratings for it's amount of watchers is {licensor_df.sort_values(by='weighted_rating', ascending=False).iloc[0, 0]}\\n\")\n",
    "licensor_df.plot.bar(x='licensors', y='weighted_rating', grid=True, color='green')\n",
    "plt.xlabel('Licensors')\n",
    "plt.ylabel('Standard deviations above the average score')\n",
    "plt.title('Standard deviations above the mean score for licensors')"
   ]
  },
  {
   "cell_type": "markdown",
   "metadata": {},
   "source": [
    "##### The licensor with the most ratings considering the amount of scorers is Crunchyroll, and the licensor with the least is Netflix"
   ]
  },
  {
   "cell_type": "markdown",
   "metadata": {},
   "source": [
    "### Data preprocessing for model"
   ]
  },
  {
   "cell_type": "code",
   "execution_count": 17,
   "metadata": {},
   "outputs": [],
   "source": [
    "import string\n",
    "\n",
    "def preprocessWord(word):\n",
    "    new_word = word.lower()\n",
    "    word_chars = [char for char in new_word if char in string.ascii_lowercase]\n",
    "    \n",
    "    return \"\".join(word_chars)\n",
    "        \n",
    "def preprocessText(description, studios, licensors, producers, genres):\n",
    "    total = []\n",
    "    \n",
    "    studios_split = studios.split(',')\n",
    "    for studio in studios_split:\n",
    "        total.append(preprocessWord(studio))\n",
    "        \n",
    "    licensors_split = licensors.split(',')\n",
    "    for licensor in licensors_split:\n",
    "        total.append(preprocessWord(licensor))\n",
    "    \n",
    "    producers_split = producers.split(',')\n",
    "    for producer in producers_split:\n",
    "        total.append(preprocessWord(producer))\n",
    "    \n",
    "    genres_split = genres.split(',')\n",
    "    for genre in genres_split:\n",
    "        total.append(preprocessWord(genre))\n",
    "    \n",
    "    description_split = description.split(' ')\n",
    "    for word in description_split:\n",
    "        total.append(preprocessWord(word))\n",
    "        \n",
    "    return \" \".join(total)"
   ]
  },
  {
   "cell_type": "code",
   "execution_count": 18,
   "metadata": {},
   "outputs": [],
   "source": [
    "def createModelData(df):\n",
    "    row_num = len(df.index)\n",
    "    text_data = []\n",
    "    score_data = []\n",
    "    \n",
    "    for i in range(row_num):\n",
    "        row = df.iloc[i]\n",
    "        description = row[14]\n",
    "        studios = row[7]\n",
    "        licensors = row[6]\n",
    "        producers = row[5]\n",
    "        genres = row[9]\n",
    "        \n",
    "        row_text = preprocessText(description, studios, licensors, producers, genres)\n",
    "        score = row[15] / 10\n",
    "        \n",
    "        text_data.append(row_text)\n",
    "        score_data.append(score)\n",
    "        \n",
    "    return text_data, score_data\n",
    "\n",
    "text_data, score_data = createModelData(df)"
   ]
  },
  {
   "cell_type": "code",
   "execution_count": 19,
   "metadata": {},
   "outputs": [],
   "source": [
    "# Now I need to make a word map and a counter of the word\n",
    "from collections import Counter\n",
    "\n",
    "words = \" \".join([text for text in text_data]).split(' ')\n",
    "counter = Counter(words)\n",
    "most_common = counter.most_common()\n",
    "\n",
    "word_map = {word: i+1 for i, (word, count) in enumerate(most_common)}\n",
    "\n",
    "def sentenceToId(sentence, word_map):\n",
    "    sentence_split = sentence.split(' ') # Here we assume that the sentence has been parsed properly\n",
    "    encoded_sentence = [word_map[word] for word in sentence_split]\n",
    "    \n",
    "    return encoded_sentence\n",
    "\n",
    "encoded_text = [sentenceToId(desc, word_map) for desc in text_data]"
   ]
  },
  {
   "cell_type": "markdown",
   "metadata": {},
   "source": [
    "#### Remove outliers from the data"
   ]
  },
  {
   "cell_type": "code",
   "execution_count": 20,
   "metadata": {},
   "outputs": [
    {
     "name": "stdout",
     "output_type": "stream",
     "text": [
      "count    1266.000000\n",
      "mean      147.486572\n",
      "std        51.213235\n",
      "min        10.000000\n",
      "25%       110.000000\n",
      "50%       156.000000\n",
      "75%       183.750000\n",
      "max       309.000000\n",
      "dtype: float64\n"
     ]
    },
    {
     "data": {
      "image/png": "[encoded data removed]",
      "text/plain": [
       "<Figure size 864x432 with 1 Axes>"
      ]
     },
     "metadata": {
      "needs_background": "light"
     },
     "output_type": "display_data"
    }
   ],
   "source": [
    "encoded_lens = [len(text) for text in encoded_text]\n",
    "series = pd.Series(encoded_lens)\n",
    "\n",
    "print(series.describe())\n",
    "series.hist()\n",
    "\n",
    "mean_raw = series.mean()\n",
    "std_raw = series.std()"
   ]
  },
  {
   "cell_type": "code",
   "execution_count": 21,
   "metadata": {},
   "outputs": [
    {
     "name": "stdout",
     "output_type": "stream",
     "text": [
      "count    1265.000000\n",
      "mean      147.358893\n",
      "std        51.031520\n",
      "min        10.000000\n",
      "25%       110.000000\n",
      "50%       156.000000\n",
      "75%       183.000000\n",
      "max       297.000000\n",
      "dtype: float64\n"
     ]
    },
    {
     "data": {
      "image/png": "[encoded data removed]",
      "text/plain": [
       "<Figure size 864x432 with 1 Axes>"
      ]
     },
     "metadata": {
      "needs_background": "light"
     },
     "output_type": "display_data"
    }
   ],
   "source": [
    "import numpy as np\n",
    "\n",
    "encoded_text_cleaned = []\n",
    "score_data_cleaned = []\n",
    "for i, length in enumerate(encoded_lens):\n",
    "    z_score = (length - mean_raw) / std_raw\n",
    "    if (z_score > -3) and (z_score < 3):\n",
    "        encoded_text_cleaned.append(encoded_text[i])\n",
    "        score_data_cleaned.append(score_data[i])\n",
    "        \n",
    "encoded_lens_new = [len(text) for text in encoded_text_cleaned]\n",
    "new_series = pd.Series(encoded_lens_new)\n",
    "\n",
    "print(new_series.describe())\n",
    "new_series.hist()\n",
    "\n",
    "mean_text_length = int(np.round(new_series.mean()))"
   ]
  },
  {
   "cell_type": "markdown",
   "metadata": {},
   "source": [
    "#### Padding and truncation of words for embedding layer"
   ]
  },
  {
   "cell_type": "code",
   "execution_count": 22,
   "metadata": {},
   "outputs": [],
   "source": [
    "def correctSize(vector, vector_size):\n",
    "    vec_len = len(vector)\n",
    "    \n",
    "    if vec_len == vector_size:\n",
    "        return vector\n",
    "    \n",
    "    elif vec_len < vector_size:\n",
    "        ret_vector = vector.copy()\n",
    "        for _ in range(vector_size - vec_len):\n",
    "            ret_vector.append(0)\n",
    "    \n",
    "    elif vec_len > vector_size:\n",
    "        return vector[:vector_size]\n",
    "    \n",
    "padded_text = [correctSize(text, mean_text_length) for text in encoded_text_cleaned]"
   ]
  },
  {
   "cell_type": "markdown",
   "metadata": {},
   "source": [
    "#### Split data into sets for the network"
   ]
  },
  {
   "cell_type": "code",
   "execution_count": 23,
   "metadata": {},
   "outputs": [],
   "source": [
    "good_len = len(padded_text) - len(padded_text) % 10\n",
    "\n",
    "fixed_padded_text = padded_text[:good_len]\n",
    "fixed_score = score_data[:good_len]\n",
    "\n",
    "train_len = int(0.8 * good_len)\n",
    "val_len = int(0.1 * good_len)\n",
    "test_len = int(0.1 * good_len)\n",
    "\n",
    "train_text = np.array(fixed_padded_text[:train_len])\n",
    "train_labels = np.array(fixed_score[:train_len])\n",
    "train_data = (train_text, train_labels)\n",
    "\n",
    "remaining_text = fixed_padded_text[train_len:]\n",
    "remaining_labels = fixed_score[train_len:]\n",
    "\n",
    "val_text = np.array(remaining_text[:val_len])\n",
    "val_labels = np.array(remaining_labels[:val_len])\n",
    "val_data = (val_text, val_labels)\n",
    "\n",
    "test_text = np.array(remaining_text[test_len:])\n",
    "test_labels = np.array(remaining_labels[test_len:])\n",
    "test_data = (test_text, test_labels)"
   ]
  },
  {
   "cell_type": "markdown",
   "metadata": {},
   "source": [
    "### Model building and testing"
   ]
  },
  {
   "cell_type": "markdown",
   "metadata": {},
   "source": [
    "#### Model creation, training, loading and saving"
   ]
  },
  {
   "cell_type": "code",
   "execution_count": 24,
   "metadata": {},
   "outputs": [],
   "source": [
    "import tensorflow as tf\n",
    "import pickle\n",
    "\n",
    "def createModel(word_map, mean_text_length):\n",
    "    model = tf.keras.Sequential(\n",
    "    [\n",
    "        tf.keras.layers.Embedding(input_dim=len(word_map) + 1, output_dim=mean_text_length),\n",
    "        tf.keras.layers.Bidirectional(tf.keras.layers.LSTM(128, dropout=0.4)),\n",
    "        tf.keras.layers.Dense(64, activation='relu'),\n",
    "        tf.keras.layers.Dense(1, activation='sigmoid')\n",
    "    ])\n",
    "    \n",
    "    model.compile(loss=tf.keras.losses.BinaryCrossentropy(), optimizer=tf.keras.optimizers.Adam(1e-4, clipnorm=1), metrics='accuracy') # This means we dont need a dense layer...?\n",
    "    \n",
    "    return model\n",
    "\n",
    "def trainModel(model, train_data, epochs, batch_size, validation_data):\n",
    "    history = model.fit(train_data[0], train_data[1], epochs=epochs, batch_size=batch_size, validation_data=validation_data)\n",
    "    \n",
    "    return history\n",
    "\n",
    "def saveModel(model, save_dir):\n",
    "    model_as_json = model.to_json()\n",
    "    with open(os.path.join(save_dir, 'model.json'), 'w') as json_file:\n",
    "        json_file.write(model_as_json)\n",
    "    model.save_weights(os.path.join(save_dir, 'model.h5'))\n",
    "    \n",
    "    with open(os.path.join(save_dir, 'history.p'), 'wb') as pickle_file:\n",
    "        pickle.dump(history, pickle_file)\n",
    "    \n",
    "    print(f\"Saved model to {save_dir}\")\n",
    "    \n",
    "def loadModel(load_dir):\n",
    "    with open(os.path.join(load_dir, 'model.json'), 'r') as json_file:\n",
    "        loaded_json_model = json_file.read()\n",
    "    model = tf.keras.models.model_from_json(loaded_json_model)\n",
    "    model.load_weights(os.path.join(load_dir, 'model.h5'))\n",
    "    \n",
    "    with open(os.path.join(load_dir, 'history.p'), 'rb') as pickle_file:\n",
    "        history = pickle.load(pickle_file)\n",
    "        \n",
    "    model.compile(loss=tf.keras.losses.BinaryCrossentropy(), optimizer=tf.keras.optimizers.Adam(1e-4, clipnorm=1), metrics='accuracy')\n",
    "    \n",
    "    return model, history"
   ]
  }
 ],
 "metadata": {
  "kernelspec": {
   "display_name": "Python 3",
   "language": "python",
   "name": "python3"
  },
  "language_info": {
   "codemirror_mode": {
    "name": "ipython",
    "version": 3
   },
   "file_extension": ".py",
   "mimetype": "text/x-python",
   "name": "python",
   "nbconvert_exporter": "python",
   "pygments_lexer": "ipython3",
   "version": "3.8.6"
  }
 },
 "nbformat": 4,
 "nbformat_minor": 4
}
