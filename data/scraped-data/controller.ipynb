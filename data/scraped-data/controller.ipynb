{
 "cells": [
  {
   "cell_type": "code",
   "execution_count": 1,
   "metadata": {},
   "outputs": [],
   "source": [
    "import scraper\n",
    "import data_interface as di\n",
    "import os"
   ]
  },
  {
   "cell_type": "code",
   "execution_count": 2,
   "metadata": {},
   "outputs": [],
   "source": [
    "sql_db_dir = os.path.join(os.getcwd(), 'anime-dataset')\n",
    "csv_dir = os.path.join(sql_db_dir, 'csv')\n",
    "\n",
    "data_scraper = scraper.Scraper(sql_db_dir=sql_db_dir, csv_dir=csv_dir)\n",
    "\n",
    "data_scraper.compileSQL()"
   ]
  }
 ],
 "metadata": {
  "kernelspec": {
   "display_name": "Python 3",
   "language": "python",
   "name": "python3"
  },
  "language_info": {
   "codemirror_mode": {
    "name": "ipython",
    "version": 3
   },
   "file_extension": ".py",
   "mimetype": "text/x-python",
   "name": "python",
   "nbconvert_exporter": "python",
   "pygments_lexer": "ipython3",
   "version": "3.8.5"
  }
 },
 "nbformat": 4,
 "nbformat_minor": 4
}
