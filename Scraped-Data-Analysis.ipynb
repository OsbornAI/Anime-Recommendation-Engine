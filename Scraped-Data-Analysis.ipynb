{
 "cells": [
  {
   "cell_type": "markdown",
   "metadata": {},
   "source": [
    "# Anime Analysis by Ben Osborn and OsbornAI"
   ]
  },
  {
   "cell_type": "markdown",
   "metadata": {},
   "source": [
    "## This project consists of the creation and anaysis of a dataset containing information regarding the top 15000 anime on MyAnimeList, as well as the creation of a model to predict whether an anime's rating will be above or below average."
   ]
  },
  {
   "cell_type": "markdown",
   "metadata": {},
   "source": [
    "## Data source: https://myanimelist.net/"
   ]
  },
  {
   "cell_type": "markdown",
   "metadata": {},
   "source": [
    "### Scraping and dataset creation"
   ]
  },
  {
   "cell_type": "markdown",
   "metadata": {},
   "source": [
    "#### Parses the soup elements"
   ]
  },
  {
   "cell_type": "code",
   "execution_count": 1,
   "metadata": {},
   "outputs": [],
   "source": [
    "from bs4 import BeautifulSoup\n",
    "\n",
    "def parseList(element):\n",
    "    ret_list = [a.text for a in element.find_all('a')]\n",
    "    \n",
    "    return \", \".join(ret_list)\n",
    "\n",
    "def parseLabel(element):\n",
    "    string = element.text\n",
    "    \n",
    "    split_colens = string.split(':')\n",
    "    removed_label = split_colens[1:]\n",
    "    \n",
    "    for i, label in enumerate(removed_label):\n",
    "        removed_label[i] = label.replace('\\n', '').strip()\n",
    "    \n",
    "    joined = \" \".join(removed_label)\n",
    "    \n",
    "    return joined"
   ]
  },
  {
   "cell_type": "markdown",
   "metadata": {},
   "source": [
    "#### Column names for the dataframe"
   ]
  },
  {
   "cell_type": "code",
   "execution_count": 2,
   "metadata": {},
   "outputs": [],
   "source": [
    "field_names = ['name_english', 'name_japanese', 'show_type', 'episodes', 'status', 'aired', 'broadcast_time', 'producers', \n",
    "               'licensors', 'studios', 'source', 'genres', 'episode_length', 'rating', 'score_and_scorers', \n",
    "               'members', 'favorites', 'description']"
   ]
  },
  {
   "cell_type": "markdown",
   "metadata": {},
   "source": [
    "#### Scrape the page of the show and return a row of data"
   ]
  },
  {
   "cell_type": "code",
   "execution_count": 3,
   "metadata": {},
   "outputs": [],
   "source": [
    "import requests\n",
    "\n",
    "def createRow(url):\n",
    "    ret_dict = {field_name: '' for field_name in field_names}\n",
    "\n",
    "    req = requests.get(url)\n",
    "    soup = BeautifulSoup(req.content, 'html.parser')\n",
    "\n",
    "    side_panel = soup.find('td', class_='borderClass')\n",
    "    side_panel_subdiv = side_panel.find('div')\n",
    "    side_panel_divs = side_panel_subdiv.find_all('div')\n",
    "\n",
    "    try:\n",
    "        ret_dict['description'] = soup.find('p', itemprop='description').text\n",
    "\n",
    "    except Exception as e:\n",
    "        print(f\"Encountered an error '{e}' for description at '{url}'.\")\n",
    "\n",
    "    for panel in side_panel_divs:\n",
    "        try:\n",
    "            split = str(panel.text.split(':')[0].strip())\n",
    "\n",
    "            if split == \"English\":\n",
    "                ret_dict['name_english'] = parseLabel(panel)\n",
    "\n",
    "            if split == \"Japanese\":\n",
    "                ret_dict['name_japanese'] = parseLabel(panel)\n",
    "\n",
    "            if split == \"Type\":\n",
    "                ret_dict['show_type'] = parseLabel(panel)\n",
    "\n",
    "            if split == \"Episodes\":\n",
    "                ret_dict['episodes'] = parseLabel(panel)\n",
    "\n",
    "            if split == \"Status\":\n",
    "                ret_dict['status'] = parseLabel(panel)\n",
    "\n",
    "            if split == \"Aired\":\n",
    "                ret_dict['aired'] = parseLabel(panel)\n",
    "\n",
    "            if split == \"Broadcast\":\n",
    "                ret_dict['broadcast_time'] = parseLabel(panel)\n",
    "\n",
    "            if split == \"Producers\":\n",
    "                ret_dict['producers'] = parseList(panel)\n",
    "\n",
    "            if split == \"Licensors\":\n",
    "                ret_dict['licensors'] = parseList(panel)\n",
    "\n",
    "            if split == \"Studios\":\n",
    "                ret_dict['studios'] = parseList(panel)\n",
    "\n",
    "            if split == \"Source\":\n",
    "                ret_dict['source'] = parseLabel(panel)\n",
    "\n",
    "            if split == \"Genres\":\n",
    "                ret_dict['genres'] = parseList(panel)\n",
    "\n",
    "            if split == \"Duration\":\n",
    "                ret_dict['episode_length'] = parseLabel(panel)\n",
    "\n",
    "            if split == \"Rating\":\n",
    "                ret_dict['rating'] = parseLabel(panel).split(' ')[0]\n",
    "\n",
    "            if split == \"Score\":\n",
    "                ret_dict['score_and_scorers'] = \", \".join([part.text for part in panel.find_all('span')][1:])\n",
    "\n",
    "            if split == \"Members\":\n",
    "                ret_dict['members'] = \"\".join(parseLabel(panel).split(','))\n",
    "\n",
    "            if split == \"Favorites\":\n",
    "                ret_dict['favorites'] = \"\".join(parseLabel(panel).split(','))\n",
    "\n",
    "        except Exception as e:\n",
    "            print(f\"Encountered an error '{e}' at '{url}'.\")\n",
    "            \n",
    "    return ret_dict\n",
    "    \n",
    "# createRow(\"https://myanimelist.net/anime/5114/Fullmetal_Alchemist__Brotherhood\")"
   ]
  },
  {
   "cell_type": "markdown",
   "metadata": {},
   "source": [
    "#### Save the data from the anime listed on a page into a CSV"
   ]
  },
  {
   "cell_type": "code",
   "execution_count": 4,
   "metadata": {},
   "outputs": [],
   "source": [
    "import os\n",
    "from csv import DictWriter\n",
    "import time\n",
    "\n",
    "def genDataset(end_page, csv_dir, csv_filename, start_page=0):\n",
    "    link = 'Unknown'\n",
    "            \n",
    "    for i in range(start_page, end_page):\n",
    "        \n",
    "        print(f\"Scraping page {i}...\")\n",
    "\n",
    "        csv_path = os.path.join(csv_dir, f'{csv_filename}-{i}.csv')\n",
    "\n",
    "        with open(csv_path, 'w', newline='', encoding='utf-8') as csvfile:\n",
    "            writer = DictWriter(csvfile, fieldnames=field_names)\n",
    "            \n",
    "            writer.writeheader()\n",
    "\n",
    "            url_page = f\"https://myanimelist.net/topanime.php?limit={i*50}\"\n",
    "            req_list = requests.get(url_page)\n",
    "            soup_list = BeautifulSoup(req_list.content, 'html.parser')\n",
    "            shows = soup_list.find_all('tr', class_='ranking-list')\n",
    "\n",
    "            for show in shows:\n",
    "                try:\n",
    "                    link = show.find('a').get('href')\n",
    "                    data_row = createRow(link)\n",
    "                    writer.writerow(data_row)\n",
    "\n",
    "                    time.sleep(2) # These are required to stop the website from blocking us\n",
    "\n",
    "                except Exception as e:\n",
    "                    print(f\"Encountered error '{e}' at '{link}'.\")\n",
    "                    \n",
    "                    time.sleep(2)\n",
    "    \n",
    "    print(\"Dataset creation complete!\")\n",
    "    \n",
    "csv_dir = os.path.join(os.getcwd(), 'csv')\n",
    "# genDataset(300, csv_dir, 'mal-data-20-11-2020', start_page=0)"
   ]
  },
  {
   "cell_type": "markdown",
   "metadata": {},
   "source": [
    "### Data handling and cleaning"
   ]
  },
  {
   "cell_type": "markdown",
   "metadata": {},
   "source": [
    "#### Concatenate CSV files into a single data frame"
   ]
  },
  {
   "cell_type": "code",
   "execution_count": 5,
   "metadata": {},
   "outputs": [
    {
     "data": {
      "text/html": [
       "<div>\n",
       "<style scoped>\n",
       "    .dataframe tbody tr th:only-of-type {\n",
       "        vertical-align: middle;\n",
       "    }\n",
       "\n",
       "    .dataframe tbody tr th {\n",
       "        vertical-align: top;\n",
       "    }\n",
       "\n",
       "    .dataframe thead th {\n",
       "        text-align: right;\n",
       "    }\n",
       "</style>\n",
       "<table border=\"1\" class=\"dataframe\">\n",
       "  <thead>\n",
       "    <tr style=\"text-align: right;\">\n",
       "      <th></th>\n",
       "      <th>name_english</th>\n",
       "      <th>name_japanese</th>\n",
       "      <th>show_type</th>\n",
       "      <th>episodes</th>\n",
       "      <th>status</th>\n",
       "      <th>aired</th>\n",
       "      <th>broadcast_time</th>\n",
       "      <th>producers</th>\n",
       "      <th>licensors</th>\n",
       "      <th>studios</th>\n",
       "      <th>source</th>\n",
       "      <th>genres</th>\n",
       "      <th>episode_length</th>\n",
       "      <th>rating</th>\n",
       "      <th>score_and_scorers</th>\n",
       "      <th>members</th>\n",
       "      <th>favorites</th>\n",
       "      <th>description</th>\n",
       "    </tr>\n",
       "  </thead>\n",
       "  <tbody>\n",
       "    <tr>\n",
       "      <th>0</th>\n",
       "      <td>Fullmetal Alchemist Brotherhood</td>\n",
       "      <td>鋼の錬金術師 FULLMETAL ALCHEMIST</td>\n",
       "      <td>TV</td>\n",
       "      <td>64</td>\n",
       "      <td>Finished Airing</td>\n",
       "      <td>Apr 5, 2009 to Jul 4, 2010</td>\n",
       "      <td>Sundays at 17 00 (JST)</td>\n",
       "      <td>Aniplex, Square Enix, Mainichi Broadcasting Sy...</td>\n",
       "      <td>Funimation, Aniplex of America</td>\n",
       "      <td>Bones</td>\n",
       "      <td>Manga</td>\n",
       "      <td>Action, Military, Adventure, Comedy, Drama, Ma...</td>\n",
       "      <td>24 min. per ep.</td>\n",
       "      <td>R</td>\n",
       "      <td>9.22, 1238537</td>\n",
       "      <td>2035061</td>\n",
       "      <td>168400</td>\n",
       "      <td>\"In order for something to be obtained, someth...</td>\n",
       "    </tr>\n",
       "    <tr>\n",
       "      <th>1</th>\n",
       "      <td>Steins;Gate</td>\n",
       "      <td>STEINS;GATE</td>\n",
       "      <td>TV</td>\n",
       "      <td>24</td>\n",
       "      <td>Finished Airing</td>\n",
       "      <td>Apr 6, 2011 to Sep 14, 2011</td>\n",
       "      <td>Wednesdays at 02 05 (JST)</td>\n",
       "      <td>Frontier Works, Media Factory, Movic, AT-X, Ka...</td>\n",
       "      <td>Funimation</td>\n",
       "      <td>White Fox</td>\n",
       "      <td>Visual novel</td>\n",
       "      <td>Thriller, Sci-Fi</td>\n",
       "      <td>24 min. per ep.</td>\n",
       "      <td>PG-13</td>\n",
       "      <td>9.12, 888306</td>\n",
       "      <td>1643043</td>\n",
       "      <td>140395</td>\n",
       "      <td>The self-proclaimed mad scientist Rintarou Oka...</td>\n",
       "    </tr>\n",
       "    <tr>\n",
       "      <th>2</th>\n",
       "      <td>Gintama Season 4</td>\n",
       "      <td>銀魂°</td>\n",
       "      <td>TV</td>\n",
       "      <td>51</td>\n",
       "      <td>Finished Airing</td>\n",
       "      <td>Apr 8, 2015 to Mar 30, 2016</td>\n",
       "      <td>Wednesdays at 18 00 (JST)</td>\n",
       "      <td>TV Tokyo, Aniplex, Dentsu</td>\n",
       "      <td>Funimation, Crunchyroll</td>\n",
       "      <td>Bandai Namco Pictures</td>\n",
       "      <td>Manga</td>\n",
       "      <td>Action, Comedy, Historical, Parody, Samurai, S...</td>\n",
       "      <td>24 min. per ep.</td>\n",
       "      <td>PG-13</td>\n",
       "      <td>9.11, 127501</td>\n",
       "      <td>365696</td>\n",
       "      <td>10417</td>\n",
       "      <td>Gintoki, Shinpachi, and Kagura return as the f...</td>\n",
       "    </tr>\n",
       "    <tr>\n",
       "      <th>3</th>\n",
       "      <td>Hunter x Hunter</td>\n",
       "      <td>HUNTER×HUNTER（ハンター×ハンター）</td>\n",
       "      <td>TV</td>\n",
       "      <td>148</td>\n",
       "      <td>Finished Airing</td>\n",
       "      <td>Oct 2, 2011 to Sep 24, 2014</td>\n",
       "      <td>Sundays at 10 55 (JST)</td>\n",
       "      <td>VAP, Nippon Television Network, Shueisha</td>\n",
       "      <td>Viz Media</td>\n",
       "      <td>Madhouse</td>\n",
       "      <td>Manga</td>\n",
       "      <td>Action, Adventure, Fantasy, Shounen, Super Power</td>\n",
       "      <td>23 min. per ep.</td>\n",
       "      <td>PG-13</td>\n",
       "      <td>9.11, 834570</td>\n",
       "      <td>1469739</td>\n",
       "      <td>131325</td>\n",
       "      <td>Hunter x Hunter is set in a world where Hunter...</td>\n",
       "    </tr>\n",
       "    <tr>\n",
       "      <th>4</th>\n",
       "      <td>Legend of the Galactic Heroes</td>\n",
       "      <td>銀河英雄伝説</td>\n",
       "      <td>OVA</td>\n",
       "      <td>110</td>\n",
       "      <td>Finished Airing</td>\n",
       "      <td>Jan 8, 1988 to Mar 17, 1997</td>\n",
       "      <td>NaN</td>\n",
       "      <td>Kitty Films, K-Factory</td>\n",
       "      <td>Sentai Filmworks</td>\n",
       "      <td>Artland, Magic Bus</td>\n",
       "      <td>Novel</td>\n",
       "      <td>Military, Sci-Fi, Space, Drama</td>\n",
       "      <td>26 min. per ep.</td>\n",
       "      <td>R</td>\n",
       "      <td>9.10, 48184</td>\n",
       "      <td>212880</td>\n",
       "      <td>13131</td>\n",
       "      <td>The 150-year-long stalemate between the two in...</td>\n",
       "    </tr>\n",
       "  </tbody>\n",
       "</table>\n",
       "</div>"
      ],
      "text/plain": [
       "                      name_english               name_japanese show_type  \\\n",
       "0  Fullmetal Alchemist Brotherhood  鋼の錬金術師 FULLMETAL ALCHEMIST        TV   \n",
       "1                      Steins;Gate                 STEINS;GATE        TV   \n",
       "2                 Gintama Season 4                         銀魂°        TV   \n",
       "3                  Hunter x Hunter    HUNTER×HUNTER（ハンター×ハンター）        TV   \n",
       "4    Legend of the Galactic Heroes                      銀河英雄伝説       OVA   \n",
       "\n",
       "  episodes           status                        aired  \\\n",
       "0       64  Finished Airing   Apr 5, 2009 to Jul 4, 2010   \n",
       "1       24  Finished Airing  Apr 6, 2011 to Sep 14, 2011   \n",
       "2       51  Finished Airing  Apr 8, 2015 to Mar 30, 2016   \n",
       "3      148  Finished Airing  Oct 2, 2011 to Sep 24, 2014   \n",
       "4      110  Finished Airing  Jan 8, 1988 to Mar 17, 1997   \n",
       "\n",
       "              broadcast_time  \\\n",
       "0     Sundays at 17 00 (JST)   \n",
       "1  Wednesdays at 02 05 (JST)   \n",
       "2  Wednesdays at 18 00 (JST)   \n",
       "3     Sundays at 10 55 (JST)   \n",
       "4                        NaN   \n",
       "\n",
       "                                           producers  \\\n",
       "0  Aniplex, Square Enix, Mainichi Broadcasting Sy...   \n",
       "1  Frontier Works, Media Factory, Movic, AT-X, Ka...   \n",
       "2                          TV Tokyo, Aniplex, Dentsu   \n",
       "3           VAP, Nippon Television Network, Shueisha   \n",
       "4                             Kitty Films, K-Factory   \n",
       "\n",
       "                        licensors                studios        source  \\\n",
       "0  Funimation, Aniplex of America                  Bones         Manga   \n",
       "1                      Funimation              White Fox  Visual novel   \n",
       "2         Funimation, Crunchyroll  Bandai Namco Pictures         Manga   \n",
       "3                       Viz Media               Madhouse         Manga   \n",
       "4                Sentai Filmworks     Artland, Magic Bus         Novel   \n",
       "\n",
       "                                              genres   episode_length rating  \\\n",
       "0  Action, Military, Adventure, Comedy, Drama, Ma...  24 min. per ep.      R   \n",
       "1                                   Thriller, Sci-Fi  24 min. per ep.  PG-13   \n",
       "2  Action, Comedy, Historical, Parody, Samurai, S...  24 min. per ep.  PG-13   \n",
       "3   Action, Adventure, Fantasy, Shounen, Super Power  23 min. per ep.  PG-13   \n",
       "4                     Military, Sci-Fi, Space, Drama  26 min. per ep.      R   \n",
       "\n",
       "  score_and_scorers  members  favorites  \\\n",
       "0     9.22, 1238537  2035061     168400   \n",
       "1      9.12, 888306  1643043     140395   \n",
       "2      9.11, 127501   365696      10417   \n",
       "3      9.11, 834570  1469739     131325   \n",
       "4       9.10, 48184   212880      13131   \n",
       "\n",
       "                                         description  \n",
       "0  \"In order for something to be obtained, someth...  \n",
       "1  The self-proclaimed mad scientist Rintarou Oka...  \n",
       "2  Gintoki, Shinpachi, and Kagura return as the f...  \n",
       "3  Hunter x Hunter is set in a world where Hunter...  \n",
       "4  The 150-year-long stalemate between the two in...  "
      ]
     },
     "execution_count": 5,
     "metadata": {},
     "output_type": "execute_result"
    }
   ],
   "source": [
    "import pandas as pd\n",
    "import matplotlib.pyplot as plt\n",
    "import numpy as np\n",
    "%matplotlib inline\n",
    "plt.rcParams['figure.figsize'] = (14, 10)\n",
    "\n",
    "csv_path = os.path.join(os.getcwd(), 'csv')\n",
    "\n",
    "dfs = []\n",
    "for csv in os.listdir(csv_path):\n",
    "    dfs.append(pd.read_csv(os.path.join(csv_path, csv)))\n",
    "\n",
    "df = pd.concat(dfs)\n",
    "\n",
    "df.head(5)"
   ]
  },
  {
   "cell_type": "markdown",
   "metadata": {},
   "source": [
    "#### Type conversion and data cleanup"
   ]
  },
  {
   "cell_type": "code",
   "execution_count": 6,
   "metadata": {},
   "outputs": [],
   "source": [
    "df = df[df['episodes'] != 'Unknown']\n",
    "df['episodes'] = df['episodes'].astype(int)\n",
    "\n",
    "df['favorites'] = df['favorites'].astype(int)\n",
    "\n",
    "df['members'] = df['members'].astype(int)\n",
    "\n",
    "df = df.dropna(how='all')"
   ]
  },
  {
   "cell_type": "markdown",
   "metadata": {},
   "source": [
    "#### Score column parsing"
   ]
  },
  {
   "cell_type": "code",
   "execution_count": 7,
   "metadata": {},
   "outputs": [],
   "source": [
    "def parseScoreAndScorer(score_and_scorers_raw, position):\n",
    "    try:\n",
    "        stripped = score_and_scorers_raw.split(', ')[position].strip()\n",
    "        numerical_version = float(stripped)\n",
    "        \n",
    "        return numerical_version\n",
    "    \n",
    "    except:\n",
    "        return pd.NaT\n",
    "\n",
    "def scoreParsedDf(df):\n",
    "    parsed_score_df = df.copy()\n",
    "\n",
    "    parsed_score_df['score'] = parsed_score_df['score_and_scorers'].apply(lambda s: parseScoreAndScorer(s, 0))\n",
    "    parsed_score_df = parsed_score_df[parsed_score_df['score'].notna()]\n",
    "    parsed_score_df['score'] = parsed_score_df['score'].astype(float)\n",
    "\n",
    "    parsed_score_df['scorers'] = parsed_score_df['score_and_scorers'].apply(lambda s: parseScoreAndScorer(s, 1))\n",
    "    parsed_score_df = parsed_score_df[parsed_score_df['scorers'].notna()]\n",
    "    parsed_score_df['scorers'] = parsed_score_df['scorers'].astype(int)\n",
    "\n",
    "    parsed_score_df = parsed_score_df.drop('score_and_scorers', axis=1)\n",
    "    \n",
    "    return parsed_score_df"
   ]
  },
  {
   "cell_type": "markdown",
   "metadata": {},
   "source": [
    "#### Boradcast time column parsing"
   ]
  },
  {
   "cell_type": "code",
   "execution_count": 8,
   "metadata": {},
   "outputs": [],
   "source": [
    "def broadcastParse(broadcast_raw):\n",
    "    try:\n",
    "        broadcast_split = [bc_time.strip() for bc_time in broadcast_raw.split(' at ')]\n",
    "        if (len(broadcast_split) == 1) or ('Unknown' in broadcast_split):\n",
    "            return pd.NaT\n",
    "        broadcast_split[0] = broadcast_split[0][:-1]\n",
    "        broadcast_split[1] = broadcast_split[1][:5]\n",
    "        broadcast_string = \" \".join(broadcast_split)\n",
    "\n",
    "        return broadcast_string\n",
    "    \n",
    "    except:\n",
    "        return pd.NaT\n",
    "\n",
    "def broadcastParsedDf(df):\n",
    "    parsed_broadcast_df = df.copy()\n",
    "\n",
    "    parsed_broadcast_df['broadcast_time'] = parsed_broadcast_df['broadcast_time'].apply(broadcastParse)\n",
    "    parsed_broadcast_df = parsed_broadcast_df[parsed_broadcast_df['broadcast_time'].notna()]\n",
    "    parsed_broadcast_df['broadcast_time'] = pd.to_datetime(parsed_broadcast_df['broadcast_time'], format='%A %H %M')\n",
    "    \n",
    "    return parsed_broadcast_df"
   ]
  },
  {
   "cell_type": "markdown",
   "metadata": {},
   "source": [
    "#### Episode length column parsing"
   ]
  },
  {
   "cell_type": "code",
   "execution_count": 9,
   "metadata": {},
   "outputs": [],
   "source": [
    "def timeParse(time_raw):\n",
    "    try:\n",
    "        time_split = time_raw.split(' ')\n",
    "        if time_split[1] == 'min.':\n",
    "            return int(time_split[0])\n",
    "        elif time_split[1] == 'hr.':\n",
    "            if time_split[3] == 'min.':\n",
    "                return int(time_split[0]) * 60 + int(time_split[2])\n",
    "            else:\n",
    "                return int(time_split[0]) * 60 # This will make sure that if there is only an hour it will not break\n",
    "\n",
    "        else:\n",
    "            return pd.NaT\n",
    "    \n",
    "    except:\n",
    "        return pd.NaT\n",
    "    \n",
    "def timeParsedDf(df):\n",
    "    ep_length_parsed_df = df.copy()    \n",
    "\n",
    "    ep_length_parsed_df['episode_length'] = ep_length_parsed_df['episode_length'].apply(timeParse)\n",
    "    ep_length_parsed_df = ep_length_parsed_df[ep_length_parsed_df['episode_length'].notna()]\n",
    "    \n",
    "    return ep_length_parsed_df"
   ]
  },
  {
   "cell_type": "markdown",
   "metadata": {},
   "source": [
    "#### Aired time column parsing"
   ]
  },
  {
   "cell_type": "code",
   "execution_count": 10,
   "metadata": {},
   "outputs": [],
   "source": [
    "def parseAired(aired_raw, position):\n",
    "    try:\n",
    "        aired_split = aired_raw.split(' to ')\n",
    "        aired_parsed = \" \".join(aired_split[position].strip().split(\", \"))\n",
    "        aired_formatted = str(time.strftime('%d %m %Y', time.strptime(aired_parsed, '%b %d %Y')))\n",
    "        \n",
    "        return aired_formatted\n",
    "    \n",
    "    except:\n",
    "        return pd.NaT\n",
    "\n",
    "def airedParsedDf(df):\n",
    "    aired_parsed_df = df.copy()\n",
    "\n",
    "    aired_parsed_df['aired_start'] = aired_parsed_df['aired'].apply(lambda s: parseAired(s, 0))\n",
    "    aired_parsed_df = aired_parsed_df[aired_parsed_df['aired_start'].notna()]\n",
    "    aired_parsed_df['aired_start'] = pd.to_datetime(aired_parsed_df['aired_start'], format='%d %m %Y')\n",
    "\n",
    "    aired_parsed_df['aired_end'] = aired_parsed_df['aired'].apply(lambda s: parseAired(s, 1))\n",
    "    aired_parsed_df = aired_parsed_df[aired_parsed_df['aired_end'].notna()]\n",
    "    aired_parsed_df['aired_end'] = pd.to_datetime(aired_parsed_df['aired_end'], format='%d %m %Y')\n",
    "\n",
    "    aired_parsed_df = aired_parsed_df.drop('aired', axis=1)\n",
    "    \n",
    "    return aired_parsed_df"
   ]
  },
  {
   "cell_type": "markdown",
   "metadata": {},
   "source": [
    "### Data analysis"
   ]
  },
  {
   "cell_type": "markdown",
   "metadata": {},
   "source": [
    "#### Question 1: What is the highest rated show in consideration with the amount of users?"
   ]
  },
  {
   "cell_type": "code",
   "execution_count": 11,
   "metadata": {},
   "outputs": [
    {
     "name": "stdout",
     "output_type": "stream",
     "text": [
      "The anime with the highest score considering it's watchers is 0\n",
      "\n",
      "Top anime with the highest rating's considering it's watchers: \n",
      "0     621.113047\n",
      "8     545.928254\n",
      "10    521.861670\n",
      "1     506.158990\n",
      "15    488.688111\n",
      "         ...    \n",
      "29    -91.600111\n",
      "36    -96.153976\n",
      "25   -120.549967\n",
      "23   -170.292251\n",
      "46   -177.502082\n",
      "Length: 10708, dtype: float64\n"
     ]
    }
   ],
   "source": [
    "# To solve this we say the rating is the probability of an anime being good, then we take the Z-scores \n",
    "# and we look at the highest Z-score which means it will be the anime that exceeds the average \n",
    "# chance of it being good based on its members\n",
    "\n",
    "parsed_score_df = scoreParsedDf(df)\n",
    "parsed_score_df = parsed_score_df[parsed_score_df.index.notna()]\n",
    "\n",
    "good_probability = parsed_score_df['score'].mean() / 10\n",
    "probabilities = parsed_score_df['score'] / 10\n",
    "stds = (good_probability * (1 - good_probability) / parsed_score_df['scorers']) ** 0.5\n",
    "weighted_rating = (probabilities - good_probability) / stds\n",
    "\n",
    "weighted_sorted = weighted_rating.sort_values(ascending=False)\n",
    "print(f\"The anime with the highest score considering it's watchers is {weighted_sorted.index[0]}\\n\")\n",
    "print(f\"Top anime with the highest rating's considering it's watchers: \\n{weighted_sorted}\")"
   ]
  },
  {
   "cell_type": "markdown",
   "metadata": {},
   "source": [
    "##### The anime with the highest score across it's scorers is 'Fullmetal Alchemist Brotherhood' as it has the highest Z-score above the mean rating across it's scorers, followed by 'Death Note'. The anime with the lowest score across it's scorers is 'Pupa'."
   ]
  },
  {
   "cell_type": "markdown",
   "metadata": {},
   "source": [
    "#### Question 2: What is the most popular genre on average?"
   ]
  },
  {
   "cell_type": "code",
   "execution_count": 12,
   "metadata": {},
   "outputs": [
    {
     "data": {
      "text/plain": [
       "Text(0.5, 1.0, 'Genres and their average members')"
      ]
     },
     "execution_count": 12,
     "metadata": {},
     "output_type": "execute_result"
    },
    {
     "data": {
      "image/png": "[encoded data removed]",
      "text/plain": [
       "<Figure size 1008x720 with 1 Axes>"
      ]
     },
     "metadata": {
      "needs_background": "light"
     },
     "output_type": "display_data"
    }
   ],
   "source": [
    "# To do this we are going to have to gather all of the different genre's and then make a new dataframe with these genres\n",
    "# and then look at the one with the highest memberbase\n",
    "\n",
    "genre_df = df[df['genres'].notna()]\n",
    "genre_df = genre_df[genre_df['genres'] != 'add some']\n",
    "\n",
    "genres = []\n",
    "def makeDataList(array_string, data_list):\n",
    "    split_string = array_string.split(\", \")\n",
    "    for item in split_string:\n",
    "        if item not in data_list:\n",
    "            data_list.append(item)\n",
    "\n",
    "genre_df['genres'].apply(lambda s: makeDataList(s, genres))\n",
    "\n",
    "genre_average_df = pd.DataFrame()\n",
    "\n",
    "averages = []\n",
    "for genre in genres:\n",
    "    dummy_df = genre_df[genre_df['genres'].str.contains(genre)]\n",
    "    average_members = dummy_df['members'].mean()\n",
    "    averages.append(average_members)\n",
    "\n",
    "genre_average_df['genres'] = genres\n",
    "genre_average_df['averages'] = averages\n",
    "\n",
    "genre_average_df.sort_values(by='averages').plot.barh(x='genres', y='averages', grid=True, color='blue')\n",
    "plt.xlabel('Average members')\n",
    "plt.ylabel('Genres')\n",
    "plt.title('Genres and their average members')"
   ]
  },
  {
   "cell_type": "markdown",
   "metadata": {},
   "source": [
    "##### The most popular genre on average was 'Thriller', followed by 'Pyschological'. The least popular genre was 'Kids'."
   ]
  },
  {
   "cell_type": "markdown",
   "metadata": {},
   "source": [
    "#### Question 3: What is the best month of the to launch a show for the most viewers?"
   ]
  },
  {
   "cell_type": "code",
   "execution_count": 13,
   "metadata": {},
   "outputs": [
    {
     "data": {
      "text/plain": [
       "Text(0.5, 1.0, 'Average members for shows during the month they premiered')"
      ]
     },
     "execution_count": 13,
     "metadata": {},
     "output_type": "execute_result"
    },
    {
     "data": {
      "image/png": "[encoded data removed]",
      "text/plain": [
       "<Figure size 1008x720 with 1 Axes>"
      ]
     },
     "metadata": {
      "needs_background": "light"
     },
     "output_type": "display_data"
    }
   ],
   "source": [
    "# Make seperate columns of the hour and then group by the hour under the average\n",
    "\n",
    "viewers_df = airedParsedDf(df)\n",
    "viewers_df['aired_month'] = viewers_df['aired_start'].dt.month # Sort this dataframe by the column\n",
    "\n",
    "viewers_df = viewers_df.groupby('aired_month').mean()\n",
    "viewers_df.index = pd.to_datetime(viewers_df.index, format='%m').month_name().str[:3]\n",
    "viewers_df = viewers_df.drop(['episodes', 'favorites'], axis=1)\n",
    "\n",
    "viewers_df.plot.bar(grid=True, color='red')\n",
    "plt.xlabel('Month aired')\n",
    "plt.ylabel('Average members')\n",
    "plt.title('Average members for shows during the month they premiered')"
   ]
  },
  {
   "cell_type": "markdown",
   "metadata": {},
   "source": [
    "##### The most successful anime's with the largest amount of watchers on average were aired during January, April, July and October. It is hypothesized that this is because these times are around the Japanese school holidays, leading to an increase in free time for kids and teenagers to watch the anime."
   ]
  },
  {
   "cell_type": "markdown",
   "metadata": {},
   "source": [
    "#### Question 4: What was the best time to broadcast"
   ]
  },
  {
   "cell_type": "code",
   "execution_count": 14,
   "metadata": {},
   "outputs": [
    {
     "data": {
      "text/plain": [
       "Text(0.5, 1.0, 'Average members for shows during the hour of day they broadcasted')"
      ]
     },
     "execution_count": 14,
     "metadata": {},
     "output_type": "execute_result"
    },
    {
     "data": {
      "image/png": "[encoded data removed]",
      "text/plain": [
       "<Figure size 1008x720 with 1 Axes>"
      ]
     },
     "metadata": {
      "needs_background": "light"
     },
     "output_type": "display_data"
    }
   ],
   "source": [
    "# We want to make a seperate column for the broadcast time in terms of its hour during the day\n",
    "\n",
    "bc_df = broadcastParsedDf(df)\n",
    "bc_df['broadcast_hour'] = bc_df['broadcast_time'].dt.hour\n",
    "bc_df = bc_df.groupby('broadcast_hour').mean()\n",
    "bc_df = bc_df.drop(['episodes', 'favorites'], axis=1)\n",
    "\n",
    "bc_df.plot.bar(grid=True, color='orange')\n",
    "plt.xlabel('Broadcast hour')\n",
    "plt.ylabel('Average members')\n",
    "plt.title('Average members for shows during the hour of day they broadcasted')"
   ]
  },
  {
   "cell_type": "markdown",
   "metadata": {},
   "source": [
    "##### The shows with the highest amount of watchers were released around 10:00AM, or around 00:00PM. The 10:00AM is hypothesized to be because kids and teenagers are getting out of bed around this time and watch their shows first thing in the morning, and the late night popularity is hypothesized to be because of people watching shows before they go to sleep as relaxation. Therefore these are the best times to broadcast a show to maximize its popularity."
   ]
  },
  {
   "cell_type": "markdown",
   "metadata": {},
   "source": [
    "#### Question 5: What studios have the best ratings with consideration for the amount of scorers?"
   ]
  },
  {
   "cell_type": "code",
   "execution_count": 15,
   "metadata": {},
   "outputs": [
    {
     "name": "stdout",
     "output_type": "stream",
     "text": [
      "The studio with the best average ratings based on the amount of members is Studio Chizu.\n",
      "\n",
      "Studios rated from best ratings to worst ratings:\n",
      "22        Studio Chizu\n",
      "34            Egg Firm\n",
      "457       Animation Do\n",
      "486           Kadokawa\n",
      "7           Wit Studio\n",
      "            ...       \n",
      "478        Studio elle\n",
      "479       l-a-unch・BOX\n",
      "482     Studio! Cucuri\n",
      "465    Magia Doraglier\n",
      "461          W+K Tokyo\n",
      "Name: studios, Length: 550, dtype: object\n"
     ]
    }
   ],
   "source": [
    "# Use the standard deviation except this time use the data from the other Z-Scores to find where the studios are the best\n",
    "# Using the same parsing function defined in the popular genre\n",
    "\n",
    "studio_df = scoreParsedDf(df)\n",
    "studio_df = studio_df[studio_df['studios'].notna()]\n",
    "studio_df = studio_df[studio_df['studios'] != 'add some']\n",
    "\n",
    "studios = []\n",
    "studio_df['studios'].apply(lambda s: makeDataList(s, studios))\n",
    "\n",
    "studio_average_df = pd.DataFrame()\n",
    "\n",
    "average_scores = []\n",
    "average_scorers = []\n",
    "for studio in studios:\n",
    "    dummy_df = studio_df[studio_df['studios'].str.contains(studio)]\n",
    "    avg_score = dummy_df['score'].mean() # This will be the average score for the studio\n",
    "    avg_scorers = dummy_df['scorers'].mean() # This will be the average amount of scorers for the studio # WAIT IM CHANGING THIS -----------\n",
    "    average_scores.append(avg_score)\n",
    "    average_scorers.append(avg_scorers)\n",
    "\n",
    "studio_average_df['studios'] = studios\n",
    "studio_average_df['average_scores'] = average_scores\n",
    "studio_average_df['average_scorers'] = average_scorers\n",
    "\n",
    "good_probability = studio_average_df['average_scores'].mean() / 10\n",
    "probabilities = studio_average_df['average_scores'] / 10\n",
    "stds = (good_probability * (1 - good_probability) / studio_average_df['average_scorers']) ** 0.5\n",
    "studio_average_df['weighted_rating'] = (probabilities - good_probability) / stds\n",
    "\n",
    "best_scored_studios = studio_average_df.sort_values(ascending=False, by='weighted_rating').iloc[:, 0]\n",
    "print(f\"The studio with the best average ratings based on the amount of members is {best_scored_studios.iloc[0]}.\\n\")\n",
    "print(f\"Studios rated from best ratings to worst ratings:\\n{best_scored_studios}\")"
   ]
  },
  {
   "cell_type": "markdown",
   "metadata": {},
   "source": [
    "##### The studio with the highest average rating across average scorers is 'Studio Chizu', followed by 'Egg Firm', and the studio with the lowest rating across average scorers is 'W+K Tokyo'."
   ]
  },
  {
   "cell_type": "markdown",
   "metadata": {},
   "source": [
    "#### Question 6: What licensors have the best ratings with consideration for the amount of users?"
   ]
  },
  {
   "cell_type": "code",
   "execution_count": 16,
   "metadata": {},
   "outputs": [
    {
     "name": "stdout",
     "output_type": "stream",
     "text": [
      "The licensor with the best ratings for it's amount of watchers is Walt Disney Studios\n",
      "\n"
     ]
    },
    {
     "data": {
      "text/plain": [
       "Text(0.5, 1.0, 'Standard deviations above the mean rating for licensors')"
      ]
     },
     "execution_count": 16,
     "metadata": {},
     "output_type": "execute_result"
    },
    {
     "data": {
      "image/png": "[encoded data removed]",
      "text/plain": [
       "<Figure size 1008x720 with 1 Axes>"
      ]
     },
     "metadata": {
      "needs_background": "light"
     },
     "output_type": "display_data"
    }
   ],
   "source": [
    "# Similar question to question 5, so we will answer it in a similar way\n",
    "\n",
    "licensor_df = scoreParsedDf(df)\n",
    "licensor_df = licensor_df[licensor_df['licensors'].notna()]\n",
    "licensor_df = licensor_df[licensor_df['licensors'] != 'add some']\n",
    "\n",
    "licensors = []\n",
    "licensor_df['licensors'].apply(lambda s: makeDataList(s, licensors))\n",
    "\n",
    "licensor_average_df = pd.DataFrame()\n",
    "\n",
    "average_scores = []\n",
    "average_scorers = []\n",
    "for licensor in licensors:\n",
    "    dummy_df = licensor_df[licensor_df['licensors'].str.contains(licensor)]\n",
    "    avg_score = dummy_df['score'].mean()\n",
    "    avg_scorers = dummy_df['scorers'].mean()\n",
    "    average_scores.append(avg_score)\n",
    "    average_scorers.append(avg_scorers)\n",
    "\n",
    "licensor_average_df['licensors'] = licensors\n",
    "licensor_average_df['average_scores'] = average_scores\n",
    "licensor_average_df['average_scorers'] = average_scorers\n",
    "\n",
    "good_probability = licensor_average_df['average_scores'].mean() / 10\n",
    "probabilities = licensor_average_df['average_scores'] / 10\n",
    "stds = (good_probability * (1 - good_probability) / licensor_average_df['average_scorers']) ** 0.5\n",
    "licensor_average_df['weighted_rating'] = (probabilities - good_probability) / stds\n",
    "licensor_average_df = licensor_average_df.sort_values(by='weighted_rating', ascending=False)\n",
    "\n",
    "print(f\"The licensor with the best ratings for it's amount of watchers is {licensor_average_df.iloc[0, 0]}\\n\")\n",
    "licensor_average_df.plot.bar(x='licensors', y='weighted_rating', grid=True, color='green')\n",
    "plt.xlabel('Licensors')\n",
    "plt.ylabel('Standard deviations above the average rating')\n",
    "plt.title('Standard deviations above the mean rating for licensors')"
   ]
  },
  {
   "cell_type": "markdown",
   "metadata": {},
   "source": [
    "##### The licensor with the highest average rating across average scorers is 'Walt Disney Studios', followed by 'feel.', and the licensor with the lowest average rating across average scorers is 'Active'."
   ]
  },
  {
   "cell_type": "markdown",
   "metadata": {},
   "source": [
    "### Data preprocessing for model"
   ]
  },
  {
   "cell_type": "markdown",
   "metadata": {},
   "source": [
    "#### This model will predict if a show is above or below average using it's genres, licensors, producers, studios and its description."
   ]
  },
  {
   "cell_type": "markdown",
   "metadata": {},
   "source": [
    "#### Create and shuffle data"
   ]
  },
  {
   "cell_type": "code",
   "execution_count": 17,
   "metadata": {},
   "outputs": [
    {
     "ename": "AttributeError",
     "evalue": "'numpy.int64' object has no attribute 'split'",
     "output_type": "error",
     "traceback": [
      "\u001b[0;31m---------------------------------------------------------------------------\u001b[0m",
      "\u001b[0;31mAttributeError\u001b[0m                            Traceback (most recent call last)",
      "\u001b[0;32m<ipython-input-17-fabf0740fab8>\u001b[0m in \u001b[0;36m<module>\u001b[0;34m\u001b[0m\n\u001b[1;32m     72\u001b[0m \u001b[0mword_df\u001b[0m \u001b[0;34m=\u001b[0m \u001b[0mword_df\u001b[0m\u001b[0;34m[\u001b[0m\u001b[0mword_df\u001b[0m\u001b[0;34m[\u001b[0m\u001b[0;34m'genres'\u001b[0m\u001b[0;34m]\u001b[0m\u001b[0;34m.\u001b[0m\u001b[0mnotna\u001b[0m\u001b[0;34m(\u001b[0m\u001b[0;34m)\u001b[0m\u001b[0;34m]\u001b[0m\u001b[0;34m\u001b[0m\u001b[0;34m\u001b[0m\u001b[0m\n\u001b[1;32m     73\u001b[0m \u001b[0;34m\u001b[0m\u001b[0m\n\u001b[0;32m---> 74\u001b[0;31m \u001b[0mtext_data\u001b[0m\u001b[0;34m,\u001b[0m \u001b[0mscore_data\u001b[0m \u001b[0;34m=\u001b[0m \u001b[0mcreateModelData\u001b[0m\u001b[0;34m(\u001b[0m\u001b[0mword_df\u001b[0m\u001b[0;34m)\u001b[0m\u001b[0;34m\u001b[0m\u001b[0;34m\u001b[0m\u001b[0m\n\u001b[0m",
      "\u001b[0;32m<ipython-input-17-fabf0740fab8>\u001b[0m in \u001b[0;36mcreateModelData\u001b[0;34m(df)\u001b[0m\n\u001b[1;32m     57\u001b[0m         \u001b[0mgenres\u001b[0m \u001b[0;34m=\u001b[0m \u001b[0mrow\u001b[0m\u001b[0;34m[\u001b[0m\u001b[0;36m10\u001b[0m\u001b[0;34m]\u001b[0m\u001b[0;34m\u001b[0m\u001b[0;34m\u001b[0m\u001b[0m\n\u001b[1;32m     58\u001b[0m \u001b[0;34m\u001b[0m\u001b[0m\n\u001b[0;32m---> 59\u001b[0;31m         \u001b[0mrow_text\u001b[0m \u001b[0;34m=\u001b[0m \u001b[0mpreprocessText\u001b[0m\u001b[0;34m(\u001b[0m\u001b[0mdescription\u001b[0m\u001b[0;34m,\u001b[0m \u001b[0mstudios\u001b[0m\u001b[0;34m,\u001b[0m \u001b[0mlicensors\u001b[0m\u001b[0;34m,\u001b[0m \u001b[0mproducers\u001b[0m\u001b[0;34m,\u001b[0m \u001b[0mgenres\u001b[0m\u001b[0;34m)\u001b[0m\u001b[0;34m\u001b[0m\u001b[0;34m\u001b[0m\u001b[0m\n\u001b[0m\u001b[1;32m     60\u001b[0m         \u001b[0mscore\u001b[0m \u001b[0;34m=\u001b[0m \u001b[0mrow\u001b[0m\u001b[0;34m[\u001b[0m\u001b[0;36m16\u001b[0m\u001b[0;34m]\u001b[0m \u001b[0;34m/\u001b[0m \u001b[0;36m10\u001b[0m\u001b[0;34m\u001b[0m\u001b[0;34m\u001b[0m\u001b[0m\n\u001b[1;32m     61\u001b[0m \u001b[0;34m\u001b[0m\u001b[0m\n",
      "\u001b[0;32m<ipython-input-17-fabf0740fab8>\u001b[0m in \u001b[0;36mpreprocessText\u001b[0;34m(description, studios, licensors, producers, genres)\u001b[0m\n\u001b[1;32m     27\u001b[0m         \u001b[0mtotal\u001b[0m\u001b[0;34m.\u001b[0m\u001b[0mappend\u001b[0m\u001b[0;34m(\u001b[0m\u001b[0mpreprocessWord\u001b[0m\u001b[0;34m(\u001b[0m\u001b[0mgenre\u001b[0m\u001b[0;34m)\u001b[0m\u001b[0;34m)\u001b[0m\u001b[0;34m\u001b[0m\u001b[0;34m\u001b[0m\u001b[0m\n\u001b[1;32m     28\u001b[0m \u001b[0;34m\u001b[0m\u001b[0m\n\u001b[0;32m---> 29\u001b[0;31m     \u001b[0mdescription_split\u001b[0m \u001b[0;34m=\u001b[0m \u001b[0mdescription\u001b[0m\u001b[0;34m.\u001b[0m\u001b[0msplit\u001b[0m\u001b[0;34m(\u001b[0m\u001b[0;34m' '\u001b[0m\u001b[0;34m)\u001b[0m\u001b[0;34m\u001b[0m\u001b[0;34m\u001b[0m\u001b[0m\n\u001b[0m\u001b[1;32m     30\u001b[0m     \u001b[0;32mfor\u001b[0m \u001b[0mword\u001b[0m \u001b[0;32min\u001b[0m \u001b[0mdescription_split\u001b[0m\u001b[0;34m:\u001b[0m\u001b[0;34m\u001b[0m\u001b[0;34m\u001b[0m\u001b[0m\n\u001b[1;32m     31\u001b[0m         \u001b[0mtotal\u001b[0m\u001b[0;34m.\u001b[0m\u001b[0mappend\u001b[0m\u001b[0;34m(\u001b[0m\u001b[0mpreprocessWord\u001b[0m\u001b[0;34m(\u001b[0m\u001b[0mword\u001b[0m\u001b[0;34m)\u001b[0m\u001b[0;34m)\u001b[0m\u001b[0;34m\u001b[0m\u001b[0;34m\u001b[0m\u001b[0m\n",
      "\u001b[0;31mAttributeError\u001b[0m: 'numpy.int64' object has no attribute 'split'"
     ]
    }
   ],
   "source": [
    "import random\n",
    "import string\n",
    "\n",
    "def preprocessWord(word):\n",
    "    new_word = word.lower()\n",
    "    word_chars = [char for char in new_word if char in string.ascii_lowercase]\n",
    "    \n",
    "    return \"\".join(word_chars)\n",
    "        \n",
    "def preprocessText(description, studios, licensors, producers, genres):\n",
    "    total = []\n",
    "    \n",
    "    studios_split = studios.split(',')\n",
    "    for studio in studios_split:\n",
    "        total.append(preprocessWord(studio))\n",
    "        \n",
    "    licensors_split = licensors.split(',')\n",
    "    for licensor in licensors_split:\n",
    "        total.append(preprocessWord(licensor))\n",
    "    \n",
    "    producers_split = producers.split(',')\n",
    "    for producer in producers_split:\n",
    "        total.append(preprocessWord(producer))\n",
    "    \n",
    "    genres_split = genres.split(',')\n",
    "    for genre in genres_split:\n",
    "        total.append(preprocessWord(genre))\n",
    "\n",
    "    description_split = description.split(' ')\n",
    "    for word in description_split:\n",
    "        total.append(preprocessWord(word))\n",
    "        \n",
    "    return \" \".join(total)\n",
    "\n",
    "def shuffleData(inputs, labels):\n",
    "    data_set = []\n",
    "    for i in range(len(inputs)):\n",
    "        data_set.append((inputs[i], labels[i]))\n",
    "    random.shuffle(data_set)\n",
    "    \n",
    "    shuffled_inputs = [tup[0] for tup in data_set]\n",
    "    shuffled_labels = [tup[1] for tup in data_set]\n",
    "    \n",
    "    return shuffled_inputs, shuffled_labels\n",
    "\n",
    "def createModelData(df):\n",
    "    row_num = len(df.index)\n",
    "    text_data = []\n",
    "    score_data = []\n",
    "    \n",
    "    for i in range(row_num):\n",
    "        row = df.iloc[i]\n",
    "        description = row[15]\n",
    "        studios = row[8]\n",
    "        licensors = row[7]\n",
    "        producers = row[6]\n",
    "        genres = row[10]\n",
    "        \n",
    "        row_text = preprocessText(description, studios, licensors, producers, genres)\n",
    "        score = row[16] / 10\n",
    "        \n",
    "        text_data.append(row_text)\n",
    "        score_data.append(score)\n",
    "        \n",
    "    return shuffleData(text_data, score_data)\n",
    "\n",
    "word_df = scoreParsedDf(df)\n",
    "word_df = word_df[word_df['description'].notna()]\n",
    "word_df = word_df[word_df['studios'].notna()]\n",
    "word_df = word_df[word_df['licensors'].notna()]\n",
    "word_df = word_df[word_df['producers'].notna()]\n",
    "word_df = word_df[word_df['genres'].notna()]\n",
    "\n",
    "text_data, score_data = createModelData(word_df)"
   ]
  },
  {
   "cell_type": "markdown",
   "metadata": {},
   "source": [
    "#### Make word map and convert descriptions to number format"
   ]
  },
  {
   "cell_type": "code",
   "execution_count": null,
   "metadata": {},
   "outputs": [],
   "source": [
    "from collections import Counter\n",
    "\n",
    "words = \" \".join([text for text in text_data]).split(' ')\n",
    "counter = Counter(words)\n",
    "most_common = counter.most_common()\n",
    "\n",
    "word_map = {word: i+1 for i, (word, count) in enumerate(most_common)}\n",
    "\n",
    "def sentenceToId(sentence, word_map):\n",
    "    sentence_split = sentence.split(' ') # Here we assume that the sentence has been parsed properly\n",
    "    encoded_sentence = [word_map[word] for word in sentence_split] # This means this is probably returning a none value\n",
    "    \n",
    "    return encoded_sentence\n",
    "\n",
    "encoded_text = [sentenceToId(desc, word_map) for desc in text_data]"
   ]
  },
  {
   "cell_type": "markdown",
   "metadata": {},
   "source": [
    "#### Remove outliers from the data"
   ]
  },
  {
   "cell_type": "code",
   "execution_count": null,
   "metadata": {},
   "outputs": [],
   "source": [
    "encoded_lens = [len(text) for text in encoded_text]\n",
    "series = pd.Series(encoded_lens)\n",
    "\n",
    "print(series.describe())\n",
    "series.hist(color='red')\n",
    "plt.xlabel('Number of words in the sentence')\n",
    "plt.ylabel('Frequency')\n",
    "plt.title('Frequency of the number of words in the text')\n",
    "\n",
    "mean_raw = series.mean()\n",
    "std_raw = series.std()"
   ]
  },
  {
   "cell_type": "code",
   "execution_count": null,
   "metadata": {},
   "outputs": [],
   "source": [
    "import numpy as np\n",
    "\n",
    "encoded_text_cleaned = []\n",
    "score_data_cleaned = []\n",
    "for i, length in enumerate(encoded_lens):\n",
    "    z_score = (length - mean_raw) / std_raw\n",
    "    if (z_score > -3) and (z_score < 3):\n",
    "        encoded_text_cleaned.append(encoded_text[i])\n",
    "        score_data_cleaned.append(score_data[i])\n",
    "      \n",
    "encoded_lens_new = [len(text) for text in encoded_text_cleaned]\n",
    "new_series = pd.Series(encoded_lens_new)\n",
    "\n",
    "print(new_series.describe())\n",
    "new_series.hist(color='green')\n",
    "plt.xlabel('Number of words in the sentence')\n",
    "plt.ylabel('Frequency')\n",
    "plt.title('Corrected frequency of the number of words in the text')\n",
    "\n",
    "mean_text_length = int(np.round(new_series.mean()))"
   ]
  },
  {
   "cell_type": "markdown",
   "metadata": {},
   "source": [
    "#### Padding and truncation of words for embedding layer"
   ]
  },
  {
   "cell_type": "code",
   "execution_count": null,
   "metadata": {},
   "outputs": [],
   "source": [
    "def correctSize(vector, vector_size):\n",
    "    vec_len = len(vector)\n",
    "    \n",
    "    if vec_len == vector_size:\n",
    "        return vector\n",
    "    \n",
    "    elif vec_len < vector_size:\n",
    "        ret_vector = vector.copy()\n",
    "        for _ in range(vector_size - vec_len):\n",
    "            ret_vector.append(0)\n",
    "        return ret_vector\n",
    "    \n",
    "    elif vec_len > vector_size:\n",
    "        return vector[:vector_size]\n",
    "    \n",
    "padded_text = [correctSize(text, mean_text_length) for text in encoded_text_cleaned]"
   ]
  },
  {
   "cell_type": "markdown",
   "metadata": {},
   "source": [
    "#### Determine if a show is above or below average"
   ]
  },
  {
   "cell_type": "code",
   "execution_count": null,
   "metadata": {},
   "outputs": [],
   "source": [
    "avg_score = np.mean(score_data)\n",
    "binary_score_data = [1 if score > avg_score else 0 for score in score_data]"
   ]
  },
  {
   "cell_type": "markdown",
   "metadata": {},
   "source": [
    "#### Split data into sets for the network"
   ]
  },
  {
   "cell_type": "code",
   "execution_count": null,
   "metadata": {},
   "outputs": [],
   "source": [
    "good_len = len(padded_text) - len(padded_text) % 10\n",
    "\n",
    "fixed_padded_text = padded_text[:good_len]\n",
    "fixed_score = binary_score_data[:good_len]\n",
    "\n",
    "train_len = int(0.8 * good_len)\n",
    "val_len = int(0.1 * good_len)\n",
    "test_len = int(0.1 * good_len)\n",
    "\n",
    "train_text = np.array(fixed_padded_text[:train_len])\n",
    "train_labels = np.array(fixed_score[:train_len])\n",
    "train_data = (train_text, train_labels)\n",
    "\n",
    "remaining_text = fixed_padded_text[train_len:]\n",
    "remaining_labels = fixed_score[train_len:]\n",
    "\n",
    "val_text = np.array(remaining_text[:val_len])\n",
    "val_labels = np.array(remaining_labels[:val_len])\n",
    "val_data = (val_text, val_labels)\n",
    "\n",
    "test_text = np.array(remaining_text[test_len:])\n",
    "test_labels = np.array(remaining_labels[test_len:])\n",
    "test_data = (test_text, test_labels)\n",
    "\n",
    "print(f\"{train_len} training samples | {val_len} validation samples | {test_len} test samples | {good_len} total samples\")"
   ]
  },
  {
   "cell_type": "markdown",
   "metadata": {},
   "source": [
    "### Model building and testing"
   ]
  },
  {
   "cell_type": "markdown",
   "metadata": {},
   "source": [
    "#### Model creation, training, loading and saving"
   ]
  },
  {
   "cell_type": "code",
   "execution_count": null,
   "metadata": {},
   "outputs": [],
   "source": [
    "import tensorflow as tf\n",
    "import pickle\n",
    "\n",
    "class Model:\n",
    "    def __init__(self, model_dir):\n",
    "        self.__model = None\n",
    "        self.__history = None\n",
    "        self.__model_dir = model_dir\n",
    "        \n",
    "    def create(self, word_map, mean_text_length):\n",
    "        self.__model = tf.keras.Sequential([\n",
    "            tf.keras.layers.Embedding(input_dim=len(word_map) + 1, output_dim=mean_text_length),\n",
    "            tf.keras.layers.Bidirectional(tf.keras.layers.LSTM(128, dropout=0.4)),\n",
    "            tf.keras.layers.Dense(64, activation='relu'),\n",
    "            tf.keras.layers.Dense(1, activation='sigmoid')\n",
    "        ])\n",
    "\n",
    "        self.__model.compile(loss=tf.keras.losses.BinaryCrossentropy(), optimizer=tf.keras.optimizers.Adam(1e-4, clipnorm=1), metrics=['accuracy'])\n",
    "\n",
    "    def train(self, train_data, epochs, batch_size, validation_data):\n",
    "        self.__history = self.__model.fit(train_data[0], train_data[1], epochs=epochs, batch_size=batch_size, validation_data=validation_data).history\n",
    "\n",
    "    def evaluate(self, test_data, epochs):\n",
    "        evaluation = self.__model.evaluate(test_data[0], test_data[1], epochs)\n",
    "        eval_dict = {'loss': evaluation[0], 'accuracy': evaluation[1]}\n",
    "        print(f\"Loss on test data: {eval_dict['loss']} | Accuracy on test data: {eval_dict['accuracy']}\\n\")\n",
    "        \n",
    "        return eval_dict\n",
    "        \n",
    "    def save(self):\n",
    "        model_as_json = self.__model.to_json()\n",
    "        with open(os.path.join(self.__model_dir, 'model.json'), 'w') as json_file:\n",
    "            json_file.write(model_as_json)\n",
    "        self.__model.save_weights(os.path.join(self.__model_dir, 'model.h5'))\n",
    "\n",
    "        with open(os.path.join(self.__model_dir, 'history.p'), 'wb') as pickle_file:\n",
    "            pickle.dump(self.__history.history, pickle_file)\n",
    "\n",
    "        print(f\"Saved model to {self.__model_dir}.\")\n",
    "\n",
    "    def load(self):\n",
    "        with open(os.path.join(self.__model_dir, 'model.json'), 'r') as json_file:\n",
    "            model_as_json = json_file.read()\n",
    "        self.__model = tf.keras.models.model_from_json(model_as_json)\n",
    "        self.__model.load_weights(os.path.join(self.__model_dir, 'model.h5'))\n",
    "        self.__model.compile(loss=tf.keras.losses.BinaryCrossentropy(), optimizer=tf.keras.optimizers.Adam(1e-4, clipnorm=1), metrics=['accuracy'])\n",
    "\n",
    "        with open(os.path.join(self.__model_dir, 'history.p'), 'rb') as pickle_file:\n",
    "            self.__history = pickle.load(pickle_file)\n",
    "            \n",
    "    def __call__(self):\n",
    "        return self.getModel()\n",
    "            \n",
    "    def getModel(self):\n",
    "        return self.__model\n",
    "    \n",
    "    def getHistory(self):\n",
    "        return self.__history\n",
    "\n",
    "model_path = os.path.join(os.getcwd(), 'model')\n",
    "model = Model(model_path)\n",
    "# model.create(word_map, mean_text_length)\n",
    "model.load()"
   ]
  },
  {
   "cell_type": "code",
   "execution_count": null,
   "metadata": {},
   "outputs": [],
   "source": [
    "# model.train(train_data, 30, 64, val_data)\n",
    "# model.save()"
   ]
  },
  {
   "cell_type": "markdown",
   "metadata": {},
   "source": [
    "### Analysis and testing of the model"
   ]
  },
  {
   "cell_type": "markdown",
   "metadata": {},
   "source": [
    "#### Analysis of the model during training"
   ]
  },
  {
   "cell_type": "code",
   "execution_count": null,
   "metadata": {},
   "outputs": [],
   "source": [
    "evaluation = model.evaluate(test_data, 64)\n",
    "history = model.getHistory()\n",
    "\n",
    "plt.plot(history['loss'], label='train loss')\n",
    "plt.plot(history['accuracy'], label='train accuracy')\n",
    "plt.xlabel('Epoch')\n",
    "plt.ylabel('Amount')\n",
    "plt.title('Loss and accuracy for epochs on train data')\n",
    "plt.legend()\n",
    "plt.show()\n",
    "\n",
    "plt.plot(history['val_loss'], label='validation loss')\n",
    "plt.plot(history['val_accuracy'], label='validation accuracy')\n",
    "plt.xlabel('Epoch')\n",
    "plt.ylabel('Amount')\n",
    "plt.legend()\n",
    "plt.title('Loss and accuracy for epochs on validation data')"
   ]
  },
  {
   "cell_type": "markdown",
   "metadata": {},
   "source": [
    "##### As demonstrated by the charts above, the model becomes good at fitting the training data, but the validation data's accuracy stays the same around 0.5 for every epoch, and the loss follows an upwards trend every epoch. This demonstrates that there is very little correlation between the description, studios, licensors, genres and producers of a show and the rating that it will get. This could be because viewers like unique shows that provide a unique story, and therefore the descriptions will all vary between what people like, and thus there is no 'magic' description which results in a good show."
   ]
  },
  {
   "cell_type": "markdown",
   "metadata": {},
   "source": [
    "#### Model testing"
   ]
  },
  {
   "cell_type": "code",
   "execution_count": null,
   "metadata": {},
   "outputs": [],
   "source": [
    "import random\n",
    "\n",
    "def predictAnime(model, description, studios, licensors, producers, genres, word_map, correct_text_length):\n",
    "    listToCom = lambda list_raw: \",\".join(list_raw)\n",
    "    \n",
    "    studios_as_commas = listToCom(studios)\n",
    "    licensors_as_commas = listToCom(licensors)\n",
    "    producers_as_commas = listToCom(producers)\n",
    "    genres_as_commas = listToCom(genres)\n",
    "\n",
    "    row_text = preprocessText(description, studios_as_commas, licensors_as_commas, producers_as_commas, genres_as_commas)\n",
    "    \n",
    "    row_as_ids = sentenceToId(row_text, word_map)\n",
    "    row_corrected = np.array([correctSize(row_as_ids, correct_text_length)])\n",
    "    prediction = model().predict(row_corrected)\n",
    "    \n",
    "    return np.round(prediction.item(), 3)\n",
    "\n",
    "print(\"Sample evaluations for 5 values from the test set:\")\n",
    "sample = test_data\n",
    "for _ in range(5):\n",
    "    random_int = random.randint(0, test_len-1)\n",
    "    test_txt = np.array([test_data[0][random_int]])\n",
    "    test_lbl = test_data[1][random_int]\n",
    "    prediction = model().predict(test_txt)\n",
    "\n",
    "    print(f\"Prediction: {np.round(prediction.item(), 3)} | Actual {test_lbl}\")\n",
    "    \n",
    "# ------------ Test sample ------------\n",
    "    \n",
    "sample_description = \"\\\"In order for something to be obtained, something of equal value must be lost.\\\" Alchemy is bound by this Law of Equivalent Exchange—something the young brothers Edward and Alphonse Elric only realize after attempting human transmutation: the one forbidden act of alchemy. They pay a terrible price for their transgression—Edward loses his left leg, Alphonse his physical body. It is only by the desperate sacrifice of Edward's right arm that he is able to affix Alphonse's soul to a suit of armor. Devastated and alone, it is the hope that they would both eventually return to their original bodies that gives Edward the inspiration to obtain metal limbs called \\\"automail\\\" and become a state alchemist, the Fullmetal Alchemist.Three years of searching later, the brothers seek the Philosopher's Stone, a mythical relic that allows an alchemist to overcome the Law of Equivalent Exchange. Even with military allies Colonel Roy Mustang, Lieutenant Riza Hawkeye, and Lieutenant Colonel Maes Hughes on their side, the brothers find themselves caught up in a nationwide conspiracy that leads them not only to the true nature of the elusive Philosopher's Stone, but their country's murky history as well. In between finding a serial killer and racing against time, Edward and Alphonse must ask themselves if what they are doing will make them human again... or take away their humanity.\"\n",
    "sample_studios = ['Bones']\n",
    "sample_licensors = ['Funimation', 'Aniplex of America']\n",
    "sample_producers = ['Aniplex', 'Square Enix', 'Mainichi Broadcasting System', 'Studio Moriken']\n",
    "sample_genres = ['Action', 'Military', 'Adventure', 'Comedy', 'Drama', 'Magic', 'Fantasy', 'Shounen']\n",
    "\n",
    "sample_prediction = predictAnime(model, sample_description, sample_studios, sample_licensors, sample_producers, sample_genres, word_map, mean_text_length)\n",
    "print(\"\\nSample prediction from a custom anime:\")\n",
    "print(sample_prediction)"
   ]
  }
 ],
 "metadata": {
  "kernelspec": {
   "display_name": "Python 3",
   "language": "python",
   "name": "python3"
  },
  "language_info": {
   "codemirror_mode": {
    "name": "ipython",
    "version": 3
   },
   "file_extension": ".py",
   "mimetype": "text/x-python",
   "name": "python",
   "nbconvert_exporter": "python",
   "pygments_lexer": "ipython3",
   "version": "3.8.5"
  }
 },
 "nbformat": 4,
 "nbformat_minor": 4
}
