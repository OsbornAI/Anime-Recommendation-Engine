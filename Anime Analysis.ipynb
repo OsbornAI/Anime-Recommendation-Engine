{
 "cells": [
  {
   "cell_type": "markdown",
   "metadata": {},
   "source": [
    "# Anime Analysis by Ben Osborn and OsbornAI"
   ]
  },
  {
   "cell_type": "markdown",
   "metadata": {},
   "source": [
    "## This project consists of the scraping and creation of a dataset containing information about all anime's listed on MyAnimeList. This data is analysed, and a model is created to predict the anime's rating based on the pages features"
   ]
  },
  {
   "cell_type": "markdown",
   "metadata": {},
   "source": [
    "### Imports"
   ]
  },
  {
   "cell_type": "code",
   "execution_count": 1,
   "metadata": {
    "scrolled": false
   },
   "outputs": [],
   "source": [
    "import requests\n",
    "from bs4 import BeautifulSoup\n",
    "from csv import DictWriter\n",
    "import os\n",
    "import pandas as pd\n",
    "import matplotlib.pyplot as plt\n",
    "import time\n",
    "\n",
    "%matplotlib inline\n",
    "plt.rcParams['figure.figsize'] = (12, 6)"
   ]
  },
  {
   "cell_type": "markdown",
   "metadata": {},
   "source": [
    "### Scraping and dataset creation"
   ]
  },
  {
   "cell_type": "markdown",
   "metadata": {},
   "source": [
    "#### Parses through the labels from the soup elements"
   ]
  },
  {
   "cell_type": "code",
   "execution_count": 2,
   "metadata": {},
   "outputs": [],
   "source": [
    "# Change name to clean label\n",
    "def parseLabel(element):\n",
    "    string = element.text\n",
    "    \n",
    "    split_colens = string.split(':')\n",
    "    removed_label = split_colens[1:]\n",
    "    \n",
    "    for i, label in enumerate(removed_label):\n",
    "        removed_label[i] = label.replace('\\n', '').strip()\n",
    "    \n",
    "    joined = \" \".join(removed_label)\n",
    "    \n",
    "    return joined"
   ]
  },
  {
   "cell_type": "markdown",
   "metadata": {},
   "source": [
    "#### Parses through the list soup elements"
   ]
  },
  {
   "cell_type": "code",
   "execution_count": 3,
   "metadata": {},
   "outputs": [],
   "source": [
    "def parseList(element): # Have to check that a tags exist for ever single page and developer\n",
    "    ret_list = [a.text for a in element.find_all('a')]\n",
    "    \n",
    "    return \", \".join(ret_list)"
   ]
  },
  {
   "cell_type": "markdown",
   "metadata": {},
   "source": [
    "#### Define the field names globally"
   ]
  },
  {
   "cell_type": "code",
   "execution_count": 4,
   "metadata": {},
   "outputs": [],
   "source": [
    "field_names = ['name_english', 'name_japanese', 'show_type', 'episodes', 'status', 'aired', 'broadcast_time', 'producers', \n",
    "               'licensors', 'studios', 'source', 'genres', 'episode_length', 'rating', 'score_and_scorers', \n",
    "               'members', 'favorites', 'description']"
   ]
  },
  {
   "cell_type": "markdown",
   "metadata": {},
   "source": [
    "#### Scrapes the page from the show and returns a row of data"
   ]
  },
  {
   "cell_type": "code",
   "execution_count": 5,
   "metadata": {},
   "outputs": [],
   "source": [
    "def createRow(url):\n",
    "    global field_names\n",
    "    ret_dict = {field_name: '' for field_name in field_names}\n",
    "\n",
    "    req = requests.get(url)\n",
    "    soup = BeautifulSoup(req.content, 'html.parser')\n",
    "\n",
    "    side_panel = soup.find('td', class_='borderClass')\n",
    "    side_panel_subdiv = side_panel.find('div')\n",
    "    side_panel_divs = side_panel_subdiv.find_all('div')\n",
    "\n",
    "    try:\n",
    "        ret_dict['description'] = soup.find('p', itemprop='description').text\n",
    "\n",
    "    except Exception as e:\n",
    "        print(f\"Encountered an error '{e}' for description at '{url}'.\")\n",
    "\n",
    "    for panel in side_panel_divs:\n",
    "        try:\n",
    "            split = str(panel.text.split(':')[0].strip())\n",
    "\n",
    "            if split == \"English\":\n",
    "                ret_dict['name_english'] = parseLabel(panel)\n",
    "\n",
    "            if split == \"Japanese\":\n",
    "                ret_dict['name_japanese'] = parseLabel(panel)\n",
    "\n",
    "            if split == \"Type\":\n",
    "                ret_dict['show_type'] = parseLabel(panel)\n",
    "\n",
    "            if split == \"Episodes\":\n",
    "                ret_dict['episodes'] = parseLabel(panel)\n",
    "\n",
    "            if split == \"Status\":\n",
    "                ret_dict['status'] = parseLabel(panel)\n",
    "\n",
    "            if split == \"Aired\":\n",
    "                ret_dict['aired'] = parseLabel(panel)\n",
    "\n",
    "            if split == \"Broadcast\":\n",
    "                ret_dict['broadcast_time'] = parseLabel(panel)\n",
    "\n",
    "            if split == \"Producers\":\n",
    "                ret_dict['producers'] = parseList(panel)\n",
    "\n",
    "            if split == \"Licensors\":\n",
    "                ret_dict['licensors'] = parseList(panel)\n",
    "\n",
    "            if split == \"Studios\":\n",
    "                ret_dict['studios'] = parseList(panel)\n",
    "\n",
    "            if split == \"Source\":\n",
    "                ret_dict['source'] = parseLabel(panel)\n",
    "\n",
    "            if split == \"Genres\":\n",
    "                ret_dict['genres'] = parseList(panel)\n",
    "\n",
    "            if split == \"Duration\":\n",
    "                ret_dict['episode_length'] = parseLabel(panel)\n",
    "\n",
    "            if split == \"Rating\":\n",
    "                ret_dict['rating'] = parseLabel(panel).split(' ')[0]\n",
    "\n",
    "            if split == \"Score\":\n",
    "                ret_dict['score_and_scorers'] = \", \".join([part.text for part in panel.find_all('span')][1:])\n",
    "\n",
    "            if split == \"Members\":\n",
    "                ret_dict['members'] = \"\".join(parseLabel(panel).split(','))\n",
    "\n",
    "            if split == \"Favorites\":\n",
    "                ret_dict['favorites'] = \"\".join(parseLabel(panel).split(','))\n",
    "\n",
    "        except Exception as e:\n",
    "            print(f\"Encountered an error '{e}' at '{url}'.\")\n",
    "            \n",
    "    return ret_dict\n",
    "    \n",
    "# createRow(\"https://myanimelist.net/anime/5114/Fullmetal_Alchemist__Brotherhood\")"
   ]
  },
  {
   "cell_type": "markdown",
   "metadata": {},
   "source": [
    "#### Go through the amount of pages specified then scrape the information for each show, then store them to a CSV file"
   ]
  },
  {
   "cell_type": "code",
   "execution_count": 6,
   "metadata": {},
   "outputs": [],
   "source": [
    "# Introduce sharding of CSV to this\n",
    "\n",
    "def genDataset(end_page, csv_filename, start_page=0): # Where resume is the page of which it left off from\n",
    "    global field_names\n",
    "    link = ['Unknown']\n",
    "            \n",
    "    for i in range(start_page, end_page):\n",
    "        \n",
    "        print(f\"Scraping page {i}...\")\n",
    "\n",
    "        csv_path = os.path.join(os.getcwd(), 'csv', f'{csv_filename}-{i}.csv')\n",
    "\n",
    "        with open(csv_path, 'w', newline='') as csvfile:\n",
    "            writer = DictWriter(csvfile, fieldnames=field_names)\n",
    "            \n",
    "            writer.writeheader()\n",
    "\n",
    "            url_page = f\"https://myanimelist.net/topanime.php?limit={i*50}\"\n",
    "            req_list = requests.get(url_page)\n",
    "            soup_list = BeautifulSoup(req_list.content, 'html.parser')\n",
    "            shows = soup_list.find_all('tr', class_='ranking-list')\n",
    "\n",
    "            for show in shows:\n",
    "                try:\n",
    "                    link[0] = show.find('a').get('href')\n",
    "                    data_row = createRow(link[0])\n",
    "                    writer.writerow(data_row)\n",
    "\n",
    "                except Exception as e:\n",
    "                    print(f\"Encountered error '{e}' at '{link[0]}'.\")\n",
    "    \n",
    "    print(\"Dataset creation complete!\")\n",
    "    \n",
    "# Testing on a small dataset to begin with\n",
    "# genDataset(5, 'mal-data-11-13-2020', start_page=3)"
   ]
  },
  {
   "cell_type": "markdown",
   "metadata": {},
   "source": [
    "### Data handling and cleaning"
   ]
  },
  {
   "cell_type": "markdown",
   "metadata": {},
   "source": [
    "#### Concatenate CSV files and put them into a data frame"
   ]
  },
  {
   "cell_type": "code",
   "execution_count": 7,
   "metadata": {},
   "outputs": [],
   "source": [
    "data_path = os.path.join(os.getcwd(), 'csv')\n",
    "\n",
    "dfs = []\n",
    "for csv in os.listdir(data_path):\n",
    "    dfs.append(pd.read_csv(os.path.join(data_path, csv), index_col=0))\n",
    "\n",
    "df = pd.concat(dfs)"
   ]
  },
  {
   "cell_type": "markdown",
   "metadata": {},
   "source": [
    "#### Type conversion and data cleanup"
   ]
  },
  {
   "cell_type": "code",
   "execution_count": 8,
   "metadata": {},
   "outputs": [],
   "source": [
    "df = df[df['episodes'] != 'Unknown']\n",
    "df['episodes'] = df['episodes'].astype(int)\n",
    "\n",
    "df['favorites'] = df['favorites'].astype(int)\n",
    "\n",
    "df['members'] = df['members'].astype(int)\n",
    "\n",
    "df = df.dropna()"
   ]
  },
  {
   "cell_type": "code",
   "execution_count": 9,
   "metadata": {},
   "outputs": [],
   "source": [
    "def parseScoreAndScorer(score_and_scorers_raw, position):\n",
    "    try:\n",
    "        numerical_version = float(score_and_scorers_raw.split(', ')[position].strip())\n",
    "        return numerical_version\n",
    "    except:\n",
    "        return pd.NaT\n",
    "    \n",
    "df['score'] = df['score_and_scorers'].apply(lambda s: parseScoreAndScorer(s, 0)).astype(float)\n",
    "df['scorer'] = df['score_and_scorers'].apply(lambda s: parseScoreAndScorer(s, 1)).astype(int)\n",
    "df = df.dropna()\n",
    "df = df.drop('score_and_scorers', axis=1)"
   ]
  },
  {
   "cell_type": "markdown",
   "metadata": {},
   "source": [
    "#### Time data parsing"
   ]
  },
  {
   "cell_type": "code",
   "execution_count": 10,
   "metadata": {},
   "outputs": [],
   "source": [
    "def broadcastParse(broadcast_raw): # This parses through the broadcast time\n",
    "    broadcast_split = [bc_time.strip() for bc_time in broadcast_raw.split(' at ')]\n",
    "    if (len(broadcast_split) == 1) or ('Unknown' in broadcast_split):\n",
    "        return pd.NaT\n",
    "    broadcast_split[0] = broadcast_split[0][:-1]\n",
    "    broadcast_split[1] = broadcast_split[1][:5]\n",
    "    broadcast_string = \" \".join(broadcast_split)\n",
    "    \n",
    "    return broadcast_string\n",
    "\n",
    "df['broadcast_time'] = df['broadcast_time'].apply(broadcastParse)\n",
    "df = df.dropna()\n",
    "df['broadcast_time'] = pd.to_datetime(df['broadcast_time'], format='%A %H %M')"
   ]
  },
  {
   "cell_type": "code",
   "execution_count": 11,
   "metadata": {},
   "outputs": [],
   "source": [
    "# This one needs to parse the minutes/hours for the episode length\n",
    "def timeParse(time_raw):\n",
    "    time_split = time_raw.split(' ')\n",
    "    if time_split[1] == 'min.':\n",
    "        return int(time_split[0])\n",
    "    elif time_split[1] == 'hr.':\n",
    "        return int(time_split[0]) * 60 + int(time_split[2]) # This will cause an error if it has different formatting\n",
    "    \n",
    "df['episode_length'] = df['episode_length'].apply(timeParse)"
   ]
  },
  {
   "cell_type": "code",
   "execution_count": 12,
   "metadata": {},
   "outputs": [],
   "source": [
    "def parseAired(aired_raw, position):\n",
    "    aired_split = aired_raw.split(' to ')\n",
    "    try:\n",
    "        aired_parsed = \" \".join(aired_split[position].strip().split(\", \"))\n",
    "        aired_formatted = str(time.strftime('%d %m %Y', time.strptime(aired_parsed, '%b %d %Y')))\n",
    "        return aired_formatted\n",
    "    except:\n",
    "        return pd.NaT\n",
    "\n",
    "df['aired_start'] = pd.to_datetime(df['aired'].apply(lambda s: parseAired(s, 0)), format='%d %m %Y')\n",
    "df['aired_end'] = pd.to_datetime(df['aired'].apply(lambda s: parseAired(s, 1)), format='%d %m %Y')\n",
    "df = df.dropna()\n",
    "df = df.drop('aired', axis=1)"
   ]
  },
  {
   "cell_type": "code",
   "execution_count": 13,
   "metadata": {},
   "outputs": [
    {
     "data": {
      "text/html": [
       "<div>\n",
       "<style scoped>\n",
       "    .dataframe tbody tr th:only-of-type {\n",
       "        vertical-align: middle;\n",
       "    }\n",
       "\n",
       "    .dataframe tbody tr th {\n",
       "        vertical-align: top;\n",
       "    }\n",
       "\n",
       "    .dataframe thead th {\n",
       "        text-align: right;\n",
       "    }\n",
       "</style>\n",
       "<table border=\"1\" class=\"dataframe\">\n",
       "  <thead>\n",
       "    <tr style=\"text-align: right;\">\n",
       "      <th></th>\n",
       "      <th>name_japanese</th>\n",
       "      <th>show_type</th>\n",
       "      <th>episodes</th>\n",
       "      <th>status</th>\n",
       "      <th>broadcast_time</th>\n",
       "      <th>producers</th>\n",
       "      <th>licensors</th>\n",
       "      <th>studios</th>\n",
       "      <th>source</th>\n",
       "      <th>genres</th>\n",
       "      <th>episode_length</th>\n",
       "      <th>rating</th>\n",
       "      <th>members</th>\n",
       "      <th>favorites</th>\n",
       "      <th>description</th>\n",
       "      <th>score</th>\n",
       "      <th>scorer</th>\n",
       "      <th>aired_start</th>\n",
       "      <th>aired_end</th>\n",
       "    </tr>\n",
       "    <tr>\n",
       "      <th>name_english</th>\n",
       "      <th></th>\n",
       "      <th></th>\n",
       "      <th></th>\n",
       "      <th></th>\n",
       "      <th></th>\n",
       "      <th></th>\n",
       "      <th></th>\n",
       "      <th></th>\n",
       "      <th></th>\n",
       "      <th></th>\n",
       "      <th></th>\n",
       "      <th></th>\n",
       "      <th></th>\n",
       "      <th></th>\n",
       "      <th></th>\n",
       "      <th></th>\n",
       "      <th></th>\n",
       "      <th></th>\n",
       "      <th></th>\n",
       "    </tr>\n",
       "  </thead>\n",
       "  <tbody>\n",
       "    <tr>\n",
       "      <th>Fullmetal Alchemist Brotherhood</th>\n",
       "      <td>鋼の錬金術師 FULLMETAL ALCHEMIST</td>\n",
       "      <td>TV</td>\n",
       "      <td>64</td>\n",
       "      <td>Finished Airing</td>\n",
       "      <td>1900-01-01 17:00:00</td>\n",
       "      <td>Aniplex, Square Enix, Mainichi Broadcasting Sy...</td>\n",
       "      <td>Funimation, Aniplex of America</td>\n",
       "      <td>Bones</td>\n",
       "      <td>Manga</td>\n",
       "      <td>Action, Military, Adventure, Comedy, Drama, Ma...</td>\n",
       "      <td>24</td>\n",
       "      <td>R</td>\n",
       "      <td>2023958</td>\n",
       "      <td>167719</td>\n",
       "      <td>\"In order for something to be obtained, someth...</td>\n",
       "      <td>9.22</td>\n",
       "      <td>1232300</td>\n",
       "      <td>2009-04-05</td>\n",
       "      <td>2010-07-04</td>\n",
       "    </tr>\n",
       "    <tr>\n",
       "      <th>Steins;Gate</th>\n",
       "      <td>STEINS;GATE</td>\n",
       "      <td>TV</td>\n",
       "      <td>24</td>\n",
       "      <td>Finished Airing</td>\n",
       "      <td>1900-01-01 02:05:00</td>\n",
       "      <td>Frontier Works, Media Factory, Movic, AT-X, Ka...</td>\n",
       "      <td>Funimation</td>\n",
       "      <td>White Fox</td>\n",
       "      <td>Visual novel</td>\n",
       "      <td>Thriller, Sci-Fi</td>\n",
       "      <td>24</td>\n",
       "      <td>PG-13</td>\n",
       "      <td>1635137</td>\n",
       "      <td>139832</td>\n",
       "      <td>The self-proclaimed mad scientist Rintarou Oka...</td>\n",
       "      <td>9.12</td>\n",
       "      <td>884618</td>\n",
       "      <td>2011-04-06</td>\n",
       "      <td>2011-09-14</td>\n",
       "    </tr>\n",
       "    <tr>\n",
       "      <th>Gintama Season 4</th>\n",
       "      <td>銀魂°</td>\n",
       "      <td>TV</td>\n",
       "      <td>51</td>\n",
       "      <td>Finished Airing</td>\n",
       "      <td>1900-01-01 18:00:00</td>\n",
       "      <td>TV Tokyo, Aniplex, Dentsu</td>\n",
       "      <td>Funimation, Crunchyroll</td>\n",
       "      <td>Bandai Namco Pictures</td>\n",
       "      <td>Manga</td>\n",
       "      <td>Action, Comedy, Historical, Parody, Samurai, S...</td>\n",
       "      <td>24</td>\n",
       "      <td>PG-13</td>\n",
       "      <td>363575</td>\n",
       "      <td>10347</td>\n",
       "      <td>Gintoki, Shinpachi, and Kagura return as the f...</td>\n",
       "      <td>9.11</td>\n",
       "      <td>126846</td>\n",
       "      <td>2015-04-08</td>\n",
       "      <td>2016-03-30</td>\n",
       "    </tr>\n",
       "    <tr>\n",
       "      <th>Hunter x Hunter</th>\n",
       "      <td>HUNTER×HUNTER（ハンター×ハンター）</td>\n",
       "      <td>TV</td>\n",
       "      <td>148</td>\n",
       "      <td>Finished Airing</td>\n",
       "      <td>1900-01-01 10:55:00</td>\n",
       "      <td>VAP, Nippon Television Network, Shueisha</td>\n",
       "      <td>Viz Media</td>\n",
       "      <td>Madhouse</td>\n",
       "      <td>Manga</td>\n",
       "      <td>Action, Adventure, Fantasy, Shounen, Super Power</td>\n",
       "      <td>23</td>\n",
       "      <td>PG-13</td>\n",
       "      <td>1457626</td>\n",
       "      <td>130325</td>\n",
       "      <td>Hunter x Hunter is set in a world where Hunter...</td>\n",
       "      <td>9.11</td>\n",
       "      <td>827525</td>\n",
       "      <td>2011-10-02</td>\n",
       "      <td>2014-09-24</td>\n",
       "    </tr>\n",
       "    <tr>\n",
       "      <th>Gintama Season 2</th>\n",
       "      <td>銀魂'</td>\n",
       "      <td>TV</td>\n",
       "      <td>51</td>\n",
       "      <td>Finished Airing</td>\n",
       "      <td>1900-01-01 18:00:00</td>\n",
       "      <td>TV Tokyo, Aniplex, Dentsu, Trinity Sound, Mira...</td>\n",
       "      <td>add some</td>\n",
       "      <td>Sunrise</td>\n",
       "      <td>Manga</td>\n",
       "      <td>Action, Sci-Fi, Comedy, Historical, Parody, Sa...</td>\n",
       "      <td>24</td>\n",
       "      <td>PG-13</td>\n",
       "      <td>336989</td>\n",
       "      <td>6009</td>\n",
       "      <td>After a one-year hiatus, Shinpachi Shimura ret...</td>\n",
       "      <td>9.08</td>\n",
       "      <td>140502</td>\n",
       "      <td>2011-04-04</td>\n",
       "      <td>2012-03-26</td>\n",
       "    </tr>\n",
       "  </tbody>\n",
       "</table>\n",
       "</div>"
      ],
      "text/plain": [
       "                                              name_japanese show_type  \\\n",
       "name_english                                                            \n",
       "Fullmetal Alchemist Brotherhood  鋼の錬金術師 FULLMETAL ALCHEMIST        TV   \n",
       "Steins;Gate                                     STEINS;GATE        TV   \n",
       "Gintama Season 4                                        銀魂°        TV   \n",
       "Hunter x Hunter                    HUNTER×HUNTER（ハンター×ハンター）        TV   \n",
       "Gintama Season 2                                        銀魂'        TV   \n",
       "\n",
       "                                 episodes           status  \\\n",
       "name_english                                                 \n",
       "Fullmetal Alchemist Brotherhood        64  Finished Airing   \n",
       "Steins;Gate                            24  Finished Airing   \n",
       "Gintama Season 4                       51  Finished Airing   \n",
       "Hunter x Hunter                       148  Finished Airing   \n",
       "Gintama Season 2                       51  Finished Airing   \n",
       "\n",
       "                                     broadcast_time  \\\n",
       "name_english                                          \n",
       "Fullmetal Alchemist Brotherhood 1900-01-01 17:00:00   \n",
       "Steins;Gate                     1900-01-01 02:05:00   \n",
       "Gintama Season 4                1900-01-01 18:00:00   \n",
       "Hunter x Hunter                 1900-01-01 10:55:00   \n",
       "Gintama Season 2                1900-01-01 18:00:00   \n",
       "\n",
       "                                                                         producers  \\\n",
       "name_english                                                                         \n",
       "Fullmetal Alchemist Brotherhood  Aniplex, Square Enix, Mainichi Broadcasting Sy...   \n",
       "Steins;Gate                      Frontier Works, Media Factory, Movic, AT-X, Ka...   \n",
       "Gintama Season 4                                         TV Tokyo, Aniplex, Dentsu   \n",
       "Hunter x Hunter                           VAP, Nippon Television Network, Shueisha   \n",
       "Gintama Season 2                 TV Tokyo, Aniplex, Dentsu, Trinity Sound, Mira...   \n",
       "\n",
       "                                                      licensors  \\\n",
       "name_english                                                      \n",
       "Fullmetal Alchemist Brotherhood  Funimation, Aniplex of America   \n",
       "Steins;Gate                                          Funimation   \n",
       "Gintama Season 4                        Funimation, Crunchyroll   \n",
       "Hunter x Hunter                                       Viz Media   \n",
       "Gintama Season 2                                       add some   \n",
       "\n",
       "                                               studios        source  \\\n",
       "name_english                                                           \n",
       "Fullmetal Alchemist Brotherhood                  Bones         Manga   \n",
       "Steins;Gate                                  White Fox  Visual novel   \n",
       "Gintama Season 4                 Bandai Namco Pictures         Manga   \n",
       "Hunter x Hunter                               Madhouse         Manga   \n",
       "Gintama Season 2                               Sunrise         Manga   \n",
       "\n",
       "                                                                            genres  \\\n",
       "name_english                                                                         \n",
       "Fullmetal Alchemist Brotherhood  Action, Military, Adventure, Comedy, Drama, Ma...   \n",
       "Steins;Gate                                                       Thriller, Sci-Fi   \n",
       "Gintama Season 4                 Action, Comedy, Historical, Parody, Samurai, S...   \n",
       "Hunter x Hunter                   Action, Adventure, Fantasy, Shounen, Super Power   \n",
       "Gintama Season 2                 Action, Sci-Fi, Comedy, Historical, Parody, Sa...   \n",
       "\n",
       "                                 episode_length rating  members  favorites  \\\n",
       "name_english                                                                 \n",
       "Fullmetal Alchemist Brotherhood              24      R  2023958     167719   \n",
       "Steins;Gate                                  24  PG-13  1635137     139832   \n",
       "Gintama Season 4                             24  PG-13   363575      10347   \n",
       "Hunter x Hunter                              23  PG-13  1457626     130325   \n",
       "Gintama Season 2                             24  PG-13   336989       6009   \n",
       "\n",
       "                                                                       description  \\\n",
       "name_english                                                                         \n",
       "Fullmetal Alchemist Brotherhood  \"In order for something to be obtained, someth...   \n",
       "Steins;Gate                      The self-proclaimed mad scientist Rintarou Oka...   \n",
       "Gintama Season 4                 Gintoki, Shinpachi, and Kagura return as the f...   \n",
       "Hunter x Hunter                  Hunter x Hunter is set in a world where Hunter...   \n",
       "Gintama Season 2                 After a one-year hiatus, Shinpachi Shimura ret...   \n",
       "\n",
       "                                 score   scorer aired_start  aired_end  \n",
       "name_english                                                            \n",
       "Fullmetal Alchemist Brotherhood   9.22  1232300  2009-04-05 2010-07-04  \n",
       "Steins;Gate                       9.12   884618  2011-04-06 2011-09-14  \n",
       "Gintama Season 4                  9.11   126846  2015-04-08 2016-03-30  \n",
       "Hunter x Hunter                   9.11   827525  2011-10-02 2014-09-24  \n",
       "Gintama Season 2                  9.08   140502  2011-04-04 2012-03-26  "
      ]
     },
     "execution_count": 13,
     "metadata": {},
     "output_type": "execute_result"
    }
   ],
   "source": [
    "df.head()"
   ]
  },
  {
   "cell_type": "markdown",
   "metadata": {},
   "source": [
    "### Data analysis"
   ]
  },
  {
   "cell_type": "markdown",
   "metadata": {},
   "source": [
    "#### Question 1: What is the highest rated show in consideration with the amount of users?"
   ]
  },
  {
   "cell_type": "code",
   "execution_count": 14,
   "metadata": {},
   "outputs": [
    {
     "data": {
      "text/plain": [
       "name_english\n",
       "Fullmetal Alchemist Brotherhood             273.250752\n",
       "Steins;Gate                                 209.368885\n",
       "Hunter x Hunter                             194.256602\n",
       "Attack on Titan Season 3 Part 2             134.933732\n",
       "Code Geass Lelouch of the Rebellion R2      113.140528\n",
       "                                               ...    \n",
       "My Teen Romantic Comedy SNAFU TOO!          -59.788460\n",
       "Neon Genesis Evangelion                     -67.332888\n",
       "My Hero Academia 3                          -67.826381\n",
       "Re ZERO -Starting Life in Another World-    -79.459756\n",
       "Toradora!                                   -91.928928\n",
       "Length: 131, dtype: float64"
      ]
     },
     "execution_count": 14,
     "metadata": {},
     "output_type": "execute_result"
    }
   ],
   "source": [
    "# To solve this we say the rating is the probability of an anime being good, then we take the Z-scores \n",
    "# and we look at the highest Z-score which means it will be the anime that exceeds the average \n",
    "# chance of it being good based on its members\n",
    "good_probability = df['score'].mean() / 10\n",
    "probabilities = df['score'] / 10\n",
    "stds = (good_probability * (1 - good_probability) / df['members']) ** 0.5\n",
    "\n",
    "highest_scored = (probabilities - good_probability) / stds\n",
    "highest_scored.sort_values(ascending=False)"
   ]
  },
  {
   "cell_type": "markdown",
   "metadata": {},
   "source": [
    "##### The best anime with the highest score based on its users is Fullmetal Alchemist as it has the highest Z-score above the mean rating based on it's users compared to the others"
   ]
  },
  {
   "cell_type": "markdown",
   "metadata": {},
   "source": [
    "#### Question 2: What is the most popular genre on average?"
   ]
  },
  {
   "cell_type": "code",
   "execution_count": 15,
   "metadata": {},
   "outputs": [
    {
     "data": {
      "text/plain": [
       "<AxesSubplot:xlabel='genres'>"
      ]
     },
     "execution_count": 15,
     "metadata": {},
     "output_type": "execute_result"
    },
    {
     "data": {
      "image/png": "[encoded data removed]",
      "text/plain": [
       "<Figure size 864x432 with 1 Axes>"
      ]
     },
     "metadata": {
      "needs_background": "light"
     },
     "output_type": "display_data"
    }
   ],
   "source": [
    "# To do this we are going to have to gather all of the different genre's and then make a new dataframe with these genres\n",
    "# and then look at the one with the highest memberbase\n",
    "df = df[df['producers'] != 'add some']\n",
    "df = df[df['licensors'] != 'add some']\n",
    "df = df[df['genres'] != 'add some']\n",
    "\n",
    "genres = []\n",
    "def makeDataList(array_string, data_list):\n",
    "    split_string = array_string.split(\", \")\n",
    "    for item in split_string:\n",
    "        if item not in data_list:\n",
    "            data_list.append(item)\n",
    "\n",
    "df['genres'].apply(lambda s: makeDataList(s, genres))\n",
    "\n",
    "genre_df = pd.DataFrame()\n",
    "\n",
    "averages = []\n",
    "for genre in genres:\n",
    "    dummy_df = df[df['genres'].str.contains(genre)]\n",
    "    average_members = dummy_df['members'].mean()\n",
    "    averages.append(average_members)\n",
    "\n",
    "genre_df['genres'] = genres\n",
    "genre_df['averages'] = averages\n",
    "\n",
    "genre_df.plot.bar(x='genres', y='averages', grid=True)"
   ]
  },
  {
   "cell_type": "markdown",
   "metadata": {},
   "source": [
    "##### The most popular genre on average was police, followed by mecha and then super power"
   ]
  },
  {
   "cell_type": "markdown",
   "metadata": {},
   "source": [
    "#### Question 3: What is the best time of the year to air and for how long to get the most viewers?"
   ]
  },
  {
   "cell_type": "code",
   "execution_count": 49,
   "metadata": {},
   "outputs": [
    {
     "data": {
      "text/plain": [
       "<AxesSubplot:xlabel='aired_month'>"
      ]
     },
     "execution_count": 49,
     "metadata": {},
     "output_type": "execute_result"
    },
    {
     "data": {
      "image/png": "[encoded data removed]",
      "text/plain": [
       "<Figure size 864x432 with 1 Axes>"
      ]
     },
     "metadata": {
      "needs_background": "light"
     },
     "output_type": "display_data"
    }
   ],
   "source": [
    "# Make seperate columns of the hour and then group by the hour under the average\n",
    "temp_df = df.copy()\n",
    "temp_df['aired_month'] = temp_df['aired_start'].dt.month\n",
    "temp_df['aired_month'] = pd.to_datetime(temp_df['aired_month'], format='%m').dt.month_name().str[:3]\n",
    "temp_df = temp_df.groupby('aired_month').mean()\n",
    "temp_df = temp_df.drop(['episodes', 'episode_length', 'favorites', 'score', 'scorer'], axis=1)\n",
    "\n",
    "temp_df.plot.bar(grid=True)"
   ]
  },
  {
   "cell_type": "markdown",
   "metadata": {},
   "source": [
    "##### The most successful anime's with the largest amount of watchers on average were released in April, followed by May, meaning these are the best times to put out an anime for the most amount of watches"
   ]
  },
  {
   "cell_type": "markdown",
   "metadata": {},
   "source": [
    "#### Question 4: What was the best time to broadcast"
   ]
  },
  {
   "cell_type": "markdown",
   "metadata": {},
   "source": [
    "#### Question 5: What studios have the best ratings with consideration for the amount of users?"
   ]
  },
  {
   "cell_type": "markdown",
   "metadata": {},
   "source": [
    "#### Question 6: What licensors have the best ratings with consideration for the amount of users?"
   ]
  },
  {
   "cell_type": "markdown",
   "metadata": {},
   "source": [
    "#### Question 7: What month had the highest average watchers and thus what is the best month to release a show?"
   ]
  }
 ],
 "metadata": {
  "kernelspec": {
   "display_name": "Python 3",
   "language": "python",
   "name": "python3"
  },
  "language_info": {
   "codemirror_mode": {
    "name": "ipython",
    "version": 3
   },
   "file_extension": ".py",
   "mimetype": "text/x-python",
   "name": "python",
   "nbconvert_exporter": "python",
   "pygments_lexer": "ipython3",
   "version": "3.8.5"
  }
 },
 "nbformat": 4,
 "nbformat_minor": 4
}
