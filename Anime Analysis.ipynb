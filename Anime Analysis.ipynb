{
 "cells": [
  {
   "cell_type": "markdown",
   "metadata": {},
   "source": [
    "# Anime Analysis by Ben Osborn and OsbornAI"
   ]
  },
  {
   "cell_type": "markdown",
   "metadata": {},
   "source": [
    "## This project consists of the scraping and creation of a dataset containing information about all anime's listed on MyAnimeList. This data is analysed, and a model is created to predict the anime's rating based on the pages features"
   ]
  },
  {
   "cell_type": "markdown",
   "metadata": {},
   "source": [
    "### Imports"
   ]
  },
  {
   "cell_type": "code",
   "execution_count": 43,
   "metadata": {
    "scrolled": false
   },
   "outputs": [],
   "source": [
    "import requests\n",
    "from bs4 import BeautifulSoup\n",
    "import time"
   ]
  },
  {
   "cell_type": "markdown",
   "metadata": {},
   "source": [
    "### Scraping and dataset creation"
   ]
  },
  {
   "cell_type": "markdown",
   "metadata": {},
   "source": [
    "#### Removes the label that is included with the scraped data"
   ]
  },
  {
   "cell_type": "code",
   "execution_count": 5,
   "metadata": {},
   "outputs": [],
   "source": [
    "# Change name to clean label\n",
    "def parseLabel(element):\n",
    "    string = element.text\n",
    "    \n",
    "    split_colens = string.split(':')\n",
    "    removed_label = split_colens[1:]\n",
    "    \n",
    "    for i, label in enumerate(removed_label):\n",
    "        removed_label[i] = label.replace('\\n', '').strip()\n",
    "    \n",
    "    joined = \" \".join(removed_label)\n",
    "    \n",
    "    return joined"
   ]
  },
  {
   "cell_type": "code",
   "execution_count": 6,
   "metadata": {},
   "outputs": [],
   "source": [
    "def parseList(element): # Have to check that a tags exist for ever single page and developer\n",
    "    ret_list = [a.text for a in element.find_all('a')]\n",
    "    \n",
    "    return ret_list"
   ]
  },
  {
   "cell_type": "markdown",
   "metadata": {},
   "source": [
    "#### Scrapes the anime page and returns a row of data"
   ]
  },
  {
   "cell_type": "code",
   "execution_count": 80,
   "metadata": {},
   "outputs": [
    {
     "name": "stdout",
     "output_type": "stream",
     "text": [
      "167574\n"
     ]
    }
   ],
   "source": [
    "def createRow(url):\n",
    "    req = requests.get(url)\n",
    "    soup = BeautifulSoup(req.content, 'html.parser')\n",
    "\n",
    "    description = soup.find('p', itemprop='description').text # --------- Check this one\n",
    "\n",
    "    side_panel = soup.find('td', class_='borderClass')\n",
    "    side_panel_subdiv = side_panel.find('div')\n",
    "    side_panel_divs = side_panel_subdiv.find_all('div')\n",
    "    \n",
    "    name = parseLabel(side_panel_divs[7]) # Good\n",
    "    show_type = parseLabel(side_panel_divs[10]) # Good\n",
    "    episodes = parseLabel(side_panel_divs[11]) # Good\n",
    "    status = parseLabel(side_panel_divs[12]) # Good\n",
    "    \n",
    "    aired_raw = parseLabel(side_panel_divs[13]) \n",
    "    aired = [time.strftime('%d-%m-%Y', time.strptime(date.strip().replace(',', ''), '%b %d %Y')) for date in aired_raw.split(\"to\")]\n",
    "    aired_start = aired[0] # Good\n",
    "    aired_end = aired[1] # Good\n",
    "    \n",
    "    broadcast_raw = parseLabel(side_panel_divs[15])\n",
    "    broadcast_split = [element.strip() for element in broadcast_raw.split('at')]\n",
    "    broadcast_split[0] = broadcast_split[0][:-1]\n",
    "    broadcast_split[1] = \":\".join(broadcast_split[1][:5].split(' '))\n",
    "    broadcast = \" \".join(broadcast_split) # Good\n",
    "    \n",
    "    producers = parseList(side_panel_divs[16]) # Good\n",
    "    licensors = parseList(side_panel_divs[17]) # Good\n",
    "    studios = parseList(side_panel_divs[18]) # Good\n",
    "    source = parseLabel(side_panel_divs[19]) # Good\n",
    "    genres = parseList(side_panel_divs[20]) # Good\n",
    "    \n",
    "    duration_raw = parseLabel(side_panel_divs[21])\n",
    "    duration = duration_raw.split(' ')[0] # Good\n",
    "    \n",
    "    rating_raw = parseLabel(side_panel_divs[22])\n",
    "    rating = rating_raw.split(' ')[0] # Good\n",
    "    \n",
    "    score = [part.text for part in side_panel_divs[23].find_all('span')][1:] # Good\n",
    "        \n",
    "    members = \"\".join(parseLabel(side_panel_divs[28]).split(',')) # Good\n",
    "    favourites = \"\".join(parseLabel(side_panel_divs[29]).split(',')) # Good\n",
    "    \n",
    "createRow(\"https://myanimelist.net/anime/5114/Fullmetal_Alchemist__Brotherhood\")"
   ]
  },
  {
   "cell_type": "markdown",
   "metadata": {},
   "source": [
    "#### Go through the amount of pages specified then scrape the information for each show, then store them to a CSV file"
   ]
  },
  {
   "cell_type": "code",
   "execution_count": 27,
   "metadata": {
    "scrolled": true
   },
   "outputs": [
    {
     "ename": "NameError",
     "evalue": "name 'soup' is not defined",
     "output_type": "error",
     "traceback": [
      "\u001b[0;31m---------------------------------------------------------------------------\u001b[0m",
      "\u001b[0;31mNameError\u001b[0m                                 Traceback (most recent call last)",
      "\u001b[0;32m<ipython-input-27-b7cdf8ffac4a>\u001b[0m in \u001b[0;36m<module>\u001b[0;34m\u001b[0m\n\u001b[1;32m      8\u001b[0m     \u001b[0mreq_list\u001b[0m \u001b[0;34m=\u001b[0m \u001b[0mrequests\u001b[0m\u001b[0;34m.\u001b[0m\u001b[0mget\u001b[0m\u001b[0;34m(\u001b[0m\u001b[0murl_page\u001b[0m\u001b[0;34m)\u001b[0m\u001b[0;34m\u001b[0m\u001b[0;34m\u001b[0m\u001b[0m\n\u001b[1;32m      9\u001b[0m     \u001b[0msoup_list\u001b[0m \u001b[0;34m=\u001b[0m \u001b[0mBeautifulSoup\u001b[0m\u001b[0;34m(\u001b[0m\u001b[0mreq_list\u001b[0m\u001b[0;34m.\u001b[0m\u001b[0mcontent\u001b[0m\u001b[0;34m,\u001b[0m \u001b[0;34m'html.parser'\u001b[0m\u001b[0;34m)\u001b[0m\u001b[0;34m\u001b[0m\u001b[0;34m\u001b[0m\u001b[0m\n\u001b[0;32m---> 10\u001b[0;31m     \u001b[0mshows\u001b[0m \u001b[0;34m=\u001b[0m \u001b[0msoup\u001b[0m\u001b[0;34m.\u001b[0m\u001b[0mfind_all\u001b[0m\u001b[0;34m(\u001b[0m\u001b[0;34m'tr'\u001b[0m\u001b[0;34m,\u001b[0m \u001b[0mclass_\u001b[0m\u001b[0;34m=\u001b[0m\u001b[0;34m'ranking-list'\u001b[0m\u001b[0;34m)\u001b[0m\u001b[0;34m\u001b[0m\u001b[0;34m\u001b[0m\u001b[0m\n\u001b[0m\u001b[1;32m     11\u001b[0m \u001b[0;34m\u001b[0m\u001b[0m\n\u001b[1;32m     12\u001b[0m \u001b[0;31m#   This section is going to go to each show in the list and copy the data into it's own section\u001b[0m\u001b[0;34m\u001b[0m\u001b[0;34m\u001b[0m\u001b[0;34m\u001b[0m\u001b[0m\n",
      "\u001b[0;31mNameError\u001b[0m: name 'soup' is not defined"
     ]
    }
   ],
   "source": [
    "num_pages = 1 # Roughly 300 max, test on 0 for now (Which is the first page)\n",
    "\n",
    "# This should end up being multithreaded to do more requests at once\n",
    "\n",
    "for i in range(num_pages):\n",
    "#   This section here forcuses on grabbing the link for each page\n",
    "    url_page = f\"https://myanimelist.net/topanime.php?limit={i*50}\"\n",
    "    req_list = requests.get(url_page)\n",
    "    soup_list = BeautifulSoup(req_list.content, 'html.parser')\n",
    "    shows = soup.find_all('tr', class_='ranking-list')\n",
    "    \n",
    "#   This section is going to go to each show in the list and copy the data into it's own section\n",
    "    for i in range(50):\n",
    "        link = shows[i].find('a').get('href')\n",
    "        req_show = requests.get(link)\n",
    "        soup_show = BeautifulSoup(req_show.content, 'html.parser')\n",
    "\n",
    "#         I want to store the name, and all of the information and statistics down the side as a csv\n",
    "#         Watch out because some of the data values will contain commas"
   ]
  }
 ],
 "metadata": {
  "kernelspec": {
   "display_name": "Python 3",
   "language": "python",
   "name": "python3"
  },
  "language_info": {
   "codemirror_mode": {
    "name": "ipython",
    "version": 3
   },
   "file_extension": ".py",
   "mimetype": "text/x-python",
   "name": "python",
   "nbconvert_exporter": "python",
   "pygments_lexer": "ipython3",
   "version": "3.8.5"
  }
 },
 "nbformat": 4,
 "nbformat_minor": 4
}
