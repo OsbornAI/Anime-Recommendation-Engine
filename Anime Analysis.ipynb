{
 "cells": [
  {
   "cell_type": "markdown",
   "metadata": {},
   "source": [
    "# Anime Analysis by Ben Osborn and OsbornAI"
   ]
  },
  {
   "cell_type": "markdown",
   "metadata": {},
   "source": [
    "## This project consists of the scraping and creation of a dataset containing information about all anime's listed on MyAnimeList. This data is analysed, and a model is created to predict the anime's rating based on the pages features"
   ]
  },
  {
   "cell_type": "markdown",
   "metadata": {},
   "source": [
    "### Imports"
   ]
  },
  {
   "cell_type": "code",
   "execution_count": 1,
   "metadata": {
    "scrolled": false
   },
   "outputs": [],
   "source": [
    "import requests\n",
    "from bs4 import BeautifulSoup\n",
    "import time\n",
    "import csv"
   ]
  },
  {
   "cell_type": "markdown",
   "metadata": {},
   "source": [
    "### Scraping and dataset creation"
   ]
  },
  {
   "cell_type": "markdown",
   "metadata": {},
   "source": [
    "#### Parses through the labels from the soup elements"
   ]
  },
  {
   "cell_type": "code",
   "execution_count": 2,
   "metadata": {},
   "outputs": [],
   "source": [
    "# Change name to clean label\n",
    "def parseLabel(element):\n",
    "    string = element.text\n",
    "    \n",
    "    split_colens = string.split(':')\n",
    "    removed_label = split_colens[1:]\n",
    "    \n",
    "    for i, label in enumerate(removed_label):\n",
    "        removed_label[i] = label.replace('\\n', '').strip()\n",
    "    \n",
    "    joined = \" \".join(removed_label)\n",
    "    \n",
    "    return joined"
   ]
  },
  {
   "cell_type": "markdown",
   "metadata": {},
   "source": [
    "#### Parses through the list soup elements"
   ]
  },
  {
   "cell_type": "code",
   "execution_count": 3,
   "metadata": {},
   "outputs": [],
   "source": [
    "def parseList(element): # Have to check that a tags exist for ever single page and developer\n",
    "    ret_list = [a.text for a in element.find_all('a')]\n",
    "    \n",
    "    return \", \".join(ret_list)"
   ]
  },
  {
   "cell_type": "markdown",
   "metadata": {},
   "source": [
    "#### Define the field names globally"
   ]
  },
  {
   "cell_type": "code",
   "execution_count": 4,
   "metadata": {},
   "outputs": [],
   "source": [
    "field_names = ['name', 'show_type', 'episodes', 'status', 'aired', 'broadcast_time', 'producers', \n",
    "               'licensors', 'studios', 'source', 'genres', 'episode_length', 'rating', 'score_and_scorers', \n",
    "               'members', 'favorites', 'description']"
   ]
  },
  {
   "cell_type": "markdown",
   "metadata": {},
   "source": [
    "#### Scrapes the page from the show and returns a row of data"
   ]
  },
  {
   "cell_type": "code",
   "execution_count": 18,
   "metadata": {},
   "outputs": [],
   "source": [
    "def createRow(url, page_number):\n",
    "    global field_names\n",
    "    ret_dict = {field_name: 'NaT' for field_name in field_names}\n",
    "\n",
    "    try:\n",
    "        req = requests.get(url)\n",
    "        soup = BeautifulSoup(req.content, 'html.parser')\n",
    "\n",
    "        side_panel = soup.find('td', class_='borderClass')\n",
    "        side_panel_subdiv = side_panel.find('div')\n",
    "        side_panel_divs = side_panel_subdiv.find_all('div')\n",
    "\n",
    "        try:\n",
    "            ret_dict['description'] = soup.find('p', itemprop='description').text\n",
    "            \n",
    "        except Exception as e:\n",
    "            print(f\"Encountered an error '{e}' for description on an unknown anime on page number {page_number}!\")\n",
    "\n",
    "        for panel in side_panel_divs:\n",
    "            try:\n",
    "                split = str(panel.text.split(':')[0].strip())\n",
    "                if split == \"English\":\n",
    "                    ret_dict['name'] = parseLabel(panel)\n",
    "\n",
    "                if split == \"Type\":\n",
    "                    ret_dict['show_type'] = parseLabel(panel)\n",
    "\n",
    "                if split == \"Episodes\":\n",
    "                    ret_dict['episodes'] = parseLabel(panel)\n",
    "\n",
    "                if split == \"Status\":\n",
    "                    ret_dict['status'] = parseLabel(panel)\n",
    "\n",
    "                if split == \"Aired\":\n",
    "                    ret_dict['aired'] = parseLabel(panel)\n",
    "\n",
    "                if split == \"Broadcast\":\n",
    "                    ret_dict['broadcast_time'] = parseLabel(panel)\n",
    "\n",
    "                if split == \"Producers\":\n",
    "                    ret_dict['producers'] = parseList(panel)\n",
    "\n",
    "                if split == \"Licensors\":\n",
    "                    ret_dict['licensors'] = parseList(panel)\n",
    "\n",
    "                if split == \"Studios\":\n",
    "                    ret_dict['studios'] = parseList(panel)\n",
    "\n",
    "                if split == \"Source\":\n",
    "                    ret_dict['source'] = parseLabel(panel)\n",
    "\n",
    "                if split == \"Genres\":\n",
    "                    ret_dict['genres'] = parseList(panel)\n",
    "\n",
    "                if split == \"Duration\":\n",
    "                    ret_dict['episode_length'] = parseLabel(panel)\n",
    "\n",
    "                if split == \"Rating\":\n",
    "                    ret_dict['rating'] = parseLabel(panel).split(' ')[0]\n",
    "\n",
    "                if split == \"Score\":\n",
    "                    ret_dict['score_and_scorers'] = \", \".join([part.text for part in panel.find_all('span')][1:])\n",
    "\n",
    "                if split == \"Members\":\n",
    "                    ret_dict['members'] = \"\".join(parseLabel(panel).split(','))\n",
    "\n",
    "                if split == \"Favorites\":\n",
    "                    ret_dict['favorites'] = \"\".join(parseLabel(panel).split(','))\n",
    "\n",
    "            except Exception as e:\n",
    "                print(f\"Encountered an error '{e}' on anime {ret_dict['name']} on page number {page_number}!\")\n",
    "                \n",
    "    except Exception as e:\n",
    "        print(f\"Encountered an error '{e}' on an unknown anime on page number {page_number}!\")\n",
    "            \n",
    "    return ret_dict\n",
    "    \n",
    "# createRow(\"https://myanimelist.net/anime/5114/Fullmetal_Alchemist__Brotherhood\")"
   ]
  },
  {
   "cell_type": "markdown",
   "metadata": {},
   "source": [
    "#### Go through the amount of pages specified then scrape the information for each show, then store them to a CSV file"
   ]
  },
  {
   "cell_type": "code",
   "execution_count": 19,
   "metadata": {},
   "outputs": [],
   "source": [
    "# Multithread this to make it faster\n",
    "\n",
    "def genDataset(pages_to_scrape, csv_filename, start_page=0): # Where resume is the page of which it left off from\n",
    "    global field_names\n",
    "    \n",
    "    with open(csv_filename, 'w', newline='') as csvfile:\n",
    "        writer = csv.DictWriter(csvfile, fieldnames=field_names)\n",
    "        \n",
    "        for i in range(start_page, pages_to_scrape):\n",
    "            url_page = f\"https://myanimelist.net/topanime.php?limit={i*50}\"\n",
    "            req_list = requests.get(url_page)\n",
    "            soup_list = BeautifulSoup(req_list.content, 'html.parser')\n",
    "            shows = soup_list.find_all('tr', class_='ranking-list')\n",
    "\n",
    "            for j, show in enumerate(shows):\n",
    "                link = show.find('a').get('href')\n",
    "                data_row = createRow(link)\n",
    "                writer.writerow(data_row)\n",
    "                time.sleep(2)\n",
    "    \n",
    "    print(\"Dataset creation complete!\")"
   ]
  },
  {
   "cell_type": "code",
   "execution_count": 17,
   "metadata": {},
   "outputs": [],
   "source": [
    "genDataset(300, 'mal-data-12-11-2020.csv')"
   ]
  }
 ],
 "metadata": {
  "kernelspec": {
   "display_name": "Python 3",
   "language": "python",
   "name": "python3"
  },
  "language_info": {
   "codemirror_mode": {
    "name": "ipython",
    "version": 3
   },
   "file_extension": ".py",
   "mimetype": "text/x-python",
   "name": "python",
   "nbconvert_exporter": "python",
   "pygments_lexer": "ipython3",
   "version": "3.8.5"
  }
 },
 "nbformat": 4,
 "nbformat_minor": 4
}
