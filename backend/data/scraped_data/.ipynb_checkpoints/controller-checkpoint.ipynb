{
 "cells": [
  {
   "cell_type": "markdown",
   "metadata": {},
   "source": [
    "# Scraped Data Analysis"
   ]
  },
  {
   "cell_type": "markdown",
   "metadata": {},
   "source": [
    "## This notebook is going to analyse the data scraped from the [MyAnimeList](https://myanimelist.net/) website."
   ]
  },
  {
   "cell_type": "markdown",
   "metadata": {},
   "source": [
    "#### Compile and load our data into a dataframe"
   ]
  },
  {
   "cell_type": "code",
   "execution_count": 1,
   "metadata": {},
   "outputs": [],
   "source": [
    "import scraper\n",
    "import os\n",
    " \n",
    "csv_dir = os.path.join(os.getcwd(), 'csv')\n",
    "sql_dir = os.path.join(os.getcwd(), 'anime.db')\n",
    "\n",
    "data_scraper = scraper.Scraper(csv_dir)\n",
    "\n",
    "# data_scraper.buildCSV() # Scrape the data and store it in the CSV files\n",
    "\n",
    "df = data_scraper.compileSQL(sql_dir) # Compile our CSV's into a single dataframe containing the columns we want"
   ]
  },
  {
   "cell_type": "code",
   "execution_count": 5,
   "metadata": {},
   "outputs": [
    {
     "data": {
      "text/html": [
       "<div>\n",
       "<style scoped>\n",
       "    .dataframe tbody tr th:only-of-type {\n",
       "        vertical-align: middle;\n",
       "    }\n",
       "\n",
       "    .dataframe tbody tr th {\n",
       "        vertical-align: top;\n",
       "    }\n",
       "\n",
       "    .dataframe thead th {\n",
       "        text-align: right;\n",
       "    }\n",
       "</style>\n",
       "<table border=\"1\" class=\"dataframe\">\n",
       "  <thead>\n",
       "    <tr style=\"text-align: right;\">\n",
       "      <th></th>\n",
       "      <th>anime_id</th>\n",
       "      <th>name_japanese</th>\n",
       "      <th>name_english</th>\n",
       "      <th>show_type</th>\n",
       "      <th>rating</th>\n",
       "      <th>licensors</th>\n",
       "      <th>producers</th>\n",
       "      <th>studios</th>\n",
       "      <th>genres</th>\n",
       "      <th>episodes</th>\n",
       "      <th>episodes_bins</th>\n",
       "      <th>episode_length</th>\n",
       "      <th>episode_length_bins</th>\n",
       "      <th>score</th>\n",
       "      <th>scorers</th>\n",
       "      <th>weighted_score</th>\n",
       "      <th>description</th>\n",
       "    </tr>\n",
       "  </thead>\n",
       "  <tbody>\n",
       "    <tr>\n",
       "      <th>0</th>\n",
       "      <td>894aa9e8d7e536c0e0c01459e3a7d1af</td>\n",
       "      <td>鋼の錬金術師 FULLMETAL ALCHEMIST</td>\n",
       "      <td>Fullmetal Alchemist Brotherhood</td>\n",
       "      <td>TV</td>\n",
       "      <td>R</td>\n",
       "      <td>Funimation, Aniplex of America</td>\n",
       "      <td>Aniplex, Square Enix, Mainichi Broadcasting Sy...</td>\n",
       "      <td>Bones</td>\n",
       "      <td>Action, Military, Adventure, Comedy, Drama, Ma...</td>\n",
       "      <td>64</td>\n",
       "      <td>60</td>\n",
       "      <td>24</td>\n",
       "      <td>&lt;30</td>\n",
       "      <td>9.22</td>\n",
       "      <td>1238537</td>\n",
       "      <td>0.921518</td>\n",
       "      <td>\"In order for something to be obtained, someth...</td>\n",
       "    </tr>\n",
       "    <tr>\n",
       "      <th>1</th>\n",
       "      <td>fe88d5f25d07f0332bbe97bd3eb8ac75</td>\n",
       "      <td>STEINS;GATE</td>\n",
       "      <td>Steins;Gate</td>\n",
       "      <td>TV</td>\n",
       "      <td>PG-13</td>\n",
       "      <td>Funimation</td>\n",
       "      <td>Frontier Works, Media Factory, Movic, AT-X, Ka...</td>\n",
       "      <td>White Fox</td>\n",
       "      <td>Thriller, Sci-Fi</td>\n",
       "      <td>24</td>\n",
       "      <td>&lt;30</td>\n",
       "      <td>24</td>\n",
       "      <td>&lt;30</td>\n",
       "      <td>9.12</td>\n",
       "      <td>888306</td>\n",
       "      <td>0.911399</td>\n",
       "      <td>The self-proclaimed mad scientist Rintarou Oka...</td>\n",
       "    </tr>\n",
       "    <tr>\n",
       "      <th>2</th>\n",
       "      <td>550ccd72c1af63b9224e931ced9b722e</td>\n",
       "      <td>銀魂°</td>\n",
       "      <td>Gintama Season 4</td>\n",
       "      <td>TV</td>\n",
       "      <td>PG-13</td>\n",
       "      <td>Funimation, Crunchyroll</td>\n",
       "      <td>TV Tokyo, Aniplex, Dentsu</td>\n",
       "      <td>Bandai Namco Pictures</td>\n",
       "      <td>Action, Comedy, Historical, Parody, Samurai, S...</td>\n",
       "      <td>51</td>\n",
       "      <td>60</td>\n",
       "      <td>24</td>\n",
       "      <td>&lt;30</td>\n",
       "      <td>9.11</td>\n",
       "      <td>127501</td>\n",
       "      <td>0.909405</td>\n",
       "      <td>Gintoki, Shinpachi, and Kagura return as the f...</td>\n",
       "    </tr>\n",
       "  </tbody>\n",
       "</table>\n",
       "</div>"
      ],
      "text/plain": [
       "                           anime_id               name_japanese  \\\n",
       "0  894aa9e8d7e536c0e0c01459e3a7d1af  鋼の錬金術師 FULLMETAL ALCHEMIST   \n",
       "1  fe88d5f25d07f0332bbe97bd3eb8ac75                 STEINS;GATE   \n",
       "2  550ccd72c1af63b9224e931ced9b722e                         銀魂°   \n",
       "\n",
       "                      name_english show_type rating  \\\n",
       "0  Fullmetal Alchemist Brotherhood        TV      R   \n",
       "1                      Steins;Gate        TV  PG-13   \n",
       "2                 Gintama Season 4        TV  PG-13   \n",
       "\n",
       "                        licensors  \\\n",
       "0  Funimation, Aniplex of America   \n",
       "1                      Funimation   \n",
       "2         Funimation, Crunchyroll   \n",
       "\n",
       "                                           producers                studios  \\\n",
       "0  Aniplex, Square Enix, Mainichi Broadcasting Sy...                  Bones   \n",
       "1  Frontier Works, Media Factory, Movic, AT-X, Ka...              White Fox   \n",
       "2                          TV Tokyo, Aniplex, Dentsu  Bandai Namco Pictures   \n",
       "\n",
       "                                              genres episodes episodes_bins  \\\n",
       "0  Action, Military, Adventure, Comedy, Drama, Ma...       64            60   \n",
       "1                                   Thriller, Sci-Fi       24           <30   \n",
       "2  Action, Comedy, Historical, Parody, Samurai, S...       51            60   \n",
       "\n",
       "  episode_length episode_length_bins score  scorers weighted_score  \\\n",
       "0             24                 <30  9.22  1238537       0.921518   \n",
       "1             24                 <30  9.12   888306       0.911399   \n",
       "2             24                 <30  9.11   127501       0.909405   \n",
       "\n",
       "                                         description  \n",
       "0  \"In order for something to be obtained, someth...  \n",
       "1  The self-proclaimed mad scientist Rintarou Oka...  \n",
       "2  Gintoki, Shinpachi, and Kagura return as the f...  "
      ]
     },
     "execution_count": 5,
     "metadata": {},
     "output_type": "execute_result"
    }
   ],
   "source": [
    "df.head(3)\n",
    "df"
   ]
  },
  {
   "cell_type": "markdown",
   "metadata": {},
   "source": [
    "### Now let's look at all of the unique values from each column of the dataframe"
   ]
  },
  {
   "cell_type": "code",
   "execution_count": 4,
   "metadata": {},
   "outputs": [],
   "source": [
    "unique_dic = {}\n",
    "for column in df.columns[:-1]:\n",
    "    unique_dic[column] = df[column].unique()"
   ]
  }
 ],
 "metadata": {
  "kernelspec": {
   "display_name": "Python 3",
   "language": "python",
   "name": "python3"
  },
  "language_info": {
   "codemirror_mode": {
    "name": "ipython",
    "version": 3
   },
   "file_extension": ".py",
   "mimetype": "text/x-python",
   "name": "python",
   "nbconvert_exporter": "python",
   "pygments_lexer": "ipython3",
   "version": "3.8.5"
  }
 },
 "nbformat": 4,
 "nbformat_minor": 4
}
